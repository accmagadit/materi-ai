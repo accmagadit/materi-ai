{
 "cells": [
  {
   "cell_type": "markdown",
   "metadata": {},
   "source": [
    "# 1. Web Scraping"
   ]
  },
  {
   "cell_type": "code",
   "execution_count": 1,
   "metadata": {},
   "outputs": [],
   "source": [
    "# import library yang dibutuhkan\n",
    "\n",
    "import requests #request dari website tertentu\n",
    "from bs4 import BeautifulSoup #ekstraksi konten dalam website"
   ]
  },
  {
   "cell_type": "code",
   "execution_count": 2,
   "metadata": {},
   "outputs": [
    {
     "data": {
      "text/plain": [
       "<Response [200]>"
      ]
     },
     "execution_count": 2,
     "metadata": {},
     "output_type": "execute_result"
    }
   ],
   "source": [
    "result = requests.get('https://warstek.com/kabel-laut/')\n",
    "result"
   ]
  },
  {
   "cell_type": "code",
   "execution_count": 3,
   "metadata": {},
   "outputs": [
    {
     "data": {
      "text/plain": [
       "'utf-8'"
      ]
     },
     "execution_count": 3,
     "metadata": {},
     "output_type": "execute_result"
    }
   ],
   "source": [
    "# mengubah encoding menjadi utf-8, jika tidak dikonversi maka karakter tanda baca menjadi sulit dipahami\n",
    "\n",
    "result.encoding = result.apparent_encoding\n",
    "result.encoding"
   ]
  },
  {
   "cell_type": "code",
   "execution_count": 4,
   "metadata": {},
   "outputs": [],
   "source": [
    "wp = BeautifulSoup(result.text,\"html.parser\")"
   ]
  },
  {
   "cell_type": "code",
   "execution_count": 5,
   "metadata": {},
   "outputs": [
    {
     "data": {
      "text/plain": [
       "<p><img alt=\"\" class=\"alignnone size-full wp-image-59197\" height=\"56\" src=\"https://warstek.com/wp-content/uploads/2023/06/Untitled-3.png\" width=\"1356\"/></p>"
      ]
     },
     "execution_count": 5,
     "metadata": {},
     "output_type": "execute_result"
    }
   ],
   "source": [
    "wp.find(\"p\")"
   ]
  },
  {
   "cell_type": "code",
   "execution_count": 6,
   "metadata": {},
   "outputs": [
    {
     "data": {
      "text/plain": [
       "''"
      ]
     },
     "execution_count": 6,
     "metadata": {},
     "output_type": "execute_result"
    }
   ],
   "source": [
    "wp.find(\"p\").getText()"
   ]
  },
  {
   "cell_type": "code",
   "execution_count": 7,
   "metadata": {},
   "outputs": [
    {
     "data": {
      "text/plain": [
       "[<p><img alt=\"\" class=\"alignnone size-full wp-image-59197\" height=\"56\" src=\"https://warstek.com/wp-content/uploads/2023/06/Untitled-3.png\" width=\"1356\"/></p>,\n",
       " <p>Pada hari Minggu lalu (19 September 2021), terjadi gangguan jaringan internet pada Telkomsel dan Indihome. Gangguan tersebut menyebabkan penurunan kualitas layanan TelkomGroup baik <em>fixed</em> maupun <em>mobile broadband</em> di beberapa wilayah Indonesia. Di masa pandemi yang menuntut orang untuk berada di rumah seperti ini, gangguan internet tentu menjadi masalah besar. Berbagai kegiatan penting seperti Seleksi Kompetensi Dasar (SKD) CPNS mengalami penundaan. Netizen pun banyak berkomentar negatif terkait hal ini. Saat artikel ini dirilis, gangguan tersebut mungkin belum benar-benar terselesaikan.</p>,\n",
       " <p>Gangguan tersebut disebabkan oleh masalah pada sistem komunikasi kabel laut JaSuKa (Jawa, Sumatera dan Kalimantan) ruas Batam-Pontianak. Telkom memperkirakan proses perbaikan kabel laut yang terganggu akan berlangsung sekitar sebulan. Meski begitu, Telkom mencoba berbagai alternatif agar jaringan internet tetap dapat berjalan sebaik mungkin, meski tentu tidak sebaik ketika kondisi normal. </p>,\n",
       " <p>Bagaimana pun juga, gangguan ini membuat banyak orang bertanya-tanya, “Apa hubungannya kabel di laut dengan internet?”, “Kenapa jaringan internet itu malah lewat kabel laut?”, “Kenapa nggak pakai satelit aja?”, “Kenapa jaringannya tidak segera membaik?”, dan lainnya. Artikel singkat ini akan mencoba membahas sedikit terkait hal itu. </p>,\n",
       " <p>Internet sering diasosiasikan dengan kata <em>cloud</em> atau <em>wireless </em>sehingga kita merasa bahwa internet itu dibawa oleh udara di sekitar kita. Ketika kita mendengar kata “jaringan internet”, yang terbayang mungkin gelombang antara menara pemancar di Bumi dengan satelit di angkasa. Itu tidak sepenuhnya salah. Internet memang ada di sekitar kita dan satelit memegang peran penting untuk itu. Namun, persepsi itu membuat kita melupakan bagian lain dari internet. Bagian terpenting yang sangat vital namun tidak akan pernah kita lihat, yaitu kabel laut. Sebelumnya, perlu kita ketahui bersama bahwa:</p>,\n",
       " <p>99% Komunikasi Data Internasional itu Melalui Kabel Laut</p>,\n",
       " <p>Itu adalah kalimat yang sudah banyak disampaikan di berbagai media massa, namun sepertinya masih belum banyak diketahui masyarakat umum. Lebih detailnya lagi, hanya sekitar 300 kabel bawah laut yang bertanggung jawab terhadap 99% lalu lintas komunikasi data internasional. </p>,\n",
       " <p><amp-ad data-ad-client=\"ca-pub-9638064869561472\" data-ad-slot=\"6075996024\" data-auto-format=\"rspv\" data-full-width=\"\" height=\"300\" type=\"adsense\" width=\"100vw\"></amp-ad></p>,\n",
       " <p></p>,\n",
       " <p><script async=\"\" crossorigin=\"anonymous\" src=\"https://pagead2.googlesyndication.com/pagead/js/adsbygoogle.js?client=ca-pub-9638064869561472\"></script><br/>\n",
       " <ins class=\"adsbygoogle\" data-ad-client=\"ca-pub-9638064869561472\" data-ad-format=\"fluid\" data-ad-layout=\"in-article\" data-ad-slot=\"9856206500\" style=\"display:block; text-align:center;\"></ins><br/>\n",
       " <script>(adsbygoogle=window.adsbygoogle||[]).push({});</script></p>,\n",
       " <p>Gambar di atas merupakan jaringan kabel laut di dunia yang dapat diakses di <a href=\"https://www.submarinecablemap.com/\">www.submarinecablemap.com</a>. Di sana, kita tidak hanya bisa melihat jaringan kabel secara keseluruhan, namun juga melihat lebih detail terkait salah satu kabel yang ada. Dari gambar di atas, jaringannya memang terlihat sangat banyak dan sangat rumit. Namun, kita perlu ingat bahwa komunikasi yang senantiasa terjadi di internet itu juga sangat banyak dan sangat rumit, jauh lebih banyak dan lebih rumit dari yang bisa kita bayangkan. </p>,\n",
       " <p>Ketika kita mengirim satu chat ke teman di samping kita misalnya. Bisa jadi chat kita akan menempuh perjalanan yang amat sangat jauh. Mulai dari puluhan kilometer jalur darat secara <em>wireless</em>, kemudian melalui ribuan kilometer kabel laut, menuju ke <em>data center </em>di China atau Amerika, lalu kembali lagi ke Indonesia melalui kabel laut, dan sampai ke teman di samping kita  secara <em>wireless</em>. Itu salah satu skenario yang mungkin terjadi, bisa saja jauh lebih pendek atau jauh lebih panjang. Sebagai mahasiswa Teknik Elektro yang pernah sedikit mendalami internet, yang bisa penulis katakan terkait internet adalah <em>“It’s never been simple”</em></p>,\n",
       " <p>Ketika mendengar bahwa 99% internet itu melewati kabel laut, apa bayangan kita terkait bentuk fisik dari kabel laut itu? Ukurannya mungkin memang sangat bervariasi, namun gambar berikut bisa memberikan gambaran bahwa ukuran kabelnya bisa jadi hanya sekecil ini</p>,\n",
       " <p>Hampir seluruh luasannya digunakan sebagai pelindung. Bagian yang mengalirkan informasi adalah fiber optik yang ukurannya tidak berbeda jauh dari sehelai rambut kita. Meski sangat kecil, dia mampu membawa informasi dengan sangat cepat, mendekati kecepatan cahaya. Itu karena informasi dibawa bukan sebagai sinyal listrik seperti kabel di rumah, namun sebagai sinyal cahaya. Kapasitasnya juga sangat besar, satu helai saja bisa memiliki kapasitas 100 gigabit per sekon. [Baca: <a href=\"https://warstek.com/ftth/\">Dasar Komunikasi Fiber Optik dan FTTH (Fiber To The Home)</a>]</p>,\n",
       " <p>Dengan itu semua, kabel laut jauh lebih cepat daripada satelit. Itu karena satelit yang biasanya digunakan untuk internet berada puluhan ribu kilometer di atas kita. Sementara itu, jalur melalui laut tidak akan lebih dari belasan ribu kilometer saja. Kapasitas transfer data dari satelit juga jauh lebih sulit untuk ditingkatkan dibanding kabel laut. Maka, meski keduanya memanfaatkan kecepatan cahaya, secara umum kabel laut tetap jauh lebih cepat daripada satelit. (Baca: <a href=\"https://warstek.com/starlink/\">SpaceX Luncurkan 60 Satelit Penyedia Internet Starlink</a>)</p>,\n",
       " <p>Namun, kabel laut juga memiliki banyak masalah. Banyak pihak yang menyebutkan bahwa kabel laut yang menjadi tulang punggung internet kita ini sebenarnya sangatlah rentan. Kabel laut dapat mengalami masalah akibat faktor alam, namun ini hanya mencakup 14 persen saja.  <em>Association of Sea Cable Communication Systems</em> menyebutkan bahwa sebanyak 47% gangguan kabel laut disebabkan oleh jangkar kapal. Sementara itu, 28% disebabkan oleh sektor perikanan yang menggunakan FAD (<em>fish aggregating devices</em>). Di Indonesia pun, jangkar juga menjadi penyebab gangguan kabel terbesar. Hal itu mengingat lautan Indonesia juga sering dilewati banyak kapal. </p>,\n",
       " <p>Kabel laut yang ada di negeri kita juga cukup banyak. Hal itu dapat dilihat pada Gambar berikut yang juga didapatkan dari  <a href=\"https://www.submarinecablemap.com\">www.submarinecablemap.com</a>. Pada Gambar ini, jaringan kabel JaSuKa yang dimiliki Telkom Indonesia terlihat berwarna biru tua dan menghubungkan berbagai titik di Jawa, Sumatera, dan Kalimantan. JaSuKa memiliki total panjang hampir 11 ribu kilometer dan disebut menjadi salah satu yang terpanjang di dunia. </p>,\n",
       " <p>Kabel laut memang jauh lebih murah daripada satelit, namun tetap saja tidak mudah dan tidak sederhana. Baik perencanaan maupun pengelolaannya memerlukan banyak pengorbanan. Ini wajar saja mengingat dunia bawah laut sangatlah kompleks dan penuh dengan berbagai hal yang tak terduga. Perlu diketahui pula bahwa setiap beberapa puluh kilometer, perlu terdapat <em>repeater </em>untuk menguatkan kembali sinyal cahaya yang telah melemah. Melihat kompleksitas itu, wajar saja jika perbaikan gangguan tidak bisa selesai dalam satu malam. </p>,\n",
       " <p>Meski demikian, sistem yang besar umumnya memiliki berbagai alternatif jika sistem utamanya gagal. Hal ini juga kita dengar dari pihak Telkom, bahwa jalur backup dan alternatif telah diaktifkan untuk destinasi utama tertentu. Berbagai hal teknis yang tidak akan dipahami masyarakat umum pasti juga telah dilakukan. </p>,\n",
       " <p>Bagaimana pun juga, gangguan ini menunjukan pada kita semua bahwa sistem internet di Indonesia sebenarnya masih belum kuat dan sangat rentan, apalagi jika kita meninjau Indonesia Timur. Di satu sisi, masyarakat umum perlu menyadari bahwa sistem internet secara fisiknya memang sangat kompleks dan sangat rentan terhadap berbagai gangguan serta tidak bisa diperbaiki dengan mudah. Di sisi lain, berbagai pihak yang berpartisipasi langsung di dalamnya perlu terus melakukan evaluasi dan pengembangan agar sistem internet di negeri kita dapat menjadi lebih handal. (Baca: <a href=\"https://warstek.com/internet/\">Analisis terhadap Kualitas Jaringan Internet Indonesia yang Memburuk</a>)</p>,\n",
       " <p class=\"rmp-heading rmp-heading--title\">        Setelah selesai membaca, yuk berikan artikel ini penilaian!      </p>,\n",
       " <p class=\"rmp-heading rmp-heading--subtitle\">        Klik berdasarkan jumlah bintang untuk menilai!      </p>,\n",
       " <p class=\"rmp-rating-widget__hover-text js-rmp-hover-text\"></p>,\n",
       " <p class=\"rmp-rating-widget__results js-rmp-results\">      Rata-rata nilai <span class=\"rmp-rating-widget__results__rating js-rmp-avg-rating\">5</span> / 5. Banyaknya vote: <span class=\"rmp-rating-widget__results__votes js-rmp-vote-count\">4</span> </p>,\n",
       " <p class=\"rmp-rating-widget__not-rated js-rmp-not-rated rmp-rating-widget__not-rated--hidden\">      Belum ada yang menilai! Yuk jadi yang pertama kali menilai!    </p>,\n",
       " <p class=\"rmp-rating-widget__msg js-rmp-msg\"></p>,\n",
       " <p class=\"comment-notes\"><span id=\"email-notes\">Alamat email Anda tidak akan dipublikasikan.</span> <span class=\"required-field-message\">Ruas yang wajib ditandai <span class=\"required\">*</span></span></p>,\n",
       " <p class=\"comment-form-author\"><label for=\"author\">Nama <span class=\"required\">*</span></label> <input autocomplete=\"name\" id=\"author\" maxlength=\"245\" name=\"author\" required=\"required\" size=\"30\" type=\"text\" value=\"\"/></p>,\n",
       " <p class=\"comment-form-email\"><label for=\"email\">Email <span class=\"required\">*</span></label> <input aria-describedby=\"email-notes\" autocomplete=\"email\" id=\"email\" maxlength=\"100\" name=\"email\" required=\"required\" size=\"30\" type=\"text\" value=\"\"/></p>,\n",
       " <p class=\"comment-form-url\"><label for=\"url\">Situs Web</label> <input autocomplete=\"url\" id=\"url\" maxlength=\"200\" name=\"url\" size=\"30\" type=\"text\" value=\"\"/></p>,\n",
       " <p class=\"comment-form-comment\"><label for=\"comment\">Komentar <span class=\"required\">*</span></label> <textarea cols=\"45\" id=\"comment\" maxlength=\"65525\" name=\"comment\" required=\"required\" rows=\"8\"></textarea></p>,\n",
       " <p class=\"form-submit\"><input class=\"button button-primary\" id=\"submit\" name=\"submit\" type=\"submit\" value=\"Kirim Komentar\"/> <input id=\"comment_post_ID\" name=\"comment_post_ID\" type=\"hidden\" value=\"53058\"/>\n",
       " <input id=\"comment_parent\" name=\"comment_parent\" type=\"hidden\" value=\"0\"/>\n",
       " </p>,\n",
       " <p class=\"widget-title\">Cari Artikel</p>,\n",
       " <p class=\"widget-title\">Artikel Pilihan Editor</p>,\n",
       " <p> Penyakit diabetes merupakan sebuah kondisi medis yang terjadi ketika kadar gula (glukosa) dalam darah seseorang menjadi sangat tinggi. Glukosa merupakan … </p>,\n",
       " <p> Pengantar Minyak Jelantah Minyak jelantah merupakan minyak bekas hasil dari penggunaan minyak goreng baik itu penggunaan rumah tangga, industri dan … </p>,\n",
       " <p> Oleh: Meidita Kemala Sari dan Nadatiya Ngamarotun Fulloh Apa itu Perawatan Saluran Akar Gigi Saat ini masyarakat semakin menyadari pentingnya … </p>,\n",
       " <p class=\"widget-title\">Artikel Terpopuler</p>,\n",
       " <p>\n",
       " <a class=\"rmp-tr-posts-widget__link\" href=\"https://warstek.com/pestisida-alami-untuk-hama-pada-tanaman-mawar/\">Pestisida Alami untuk Hama pada Tanaman Mawar</a>\n",
       " </p>,\n",
       " <p>\n",
       " <a class=\"rmp-tr-posts-widget__link\" href=\"https://warstek.com/peran-bioinformatika-dalam-pengembangan-vaksin/\">Peran Bioinformatika dalam Pengembangan Vaksin</a>\n",
       " </p>,\n",
       " <p>\n",
       " <a class=\"rmp-tr-posts-widget__link\" href=\"https://warstek.com/quote-ilmuwan/\">16 Quote dari Ilmuwan, Penemu, dan Inovator yang Dapat Meningkatkan Semangatmu dalam Menguasai Sains dan Teknologi!</a>\n",
       " </p>,\n",
       " <p>\n",
       " <a class=\"rmp-tr-posts-widget__link\" href=\"https://warstek.com/ikan-hiu-dan-remora-bukti-kisah-kasih-yang-nyata/\">Ikan Hiu dan Remora, bukti kisah kasih yang nyata!</a>\n",
       " </p>,\n",
       " <p>\n",
       " <a class=\"rmp-tr-posts-widget__link\" href=\"https://warstek.com/mengapa-sains-selalu-berkembang/\">Mengapa Sains Selalu Berkembang?</a>\n",
       " </p>,\n",
       " <p><img alt=\"blank\" data-wpfc-original-src=\"http://warstek.com/wp-content/uploads/2017/12/footer-logo-copy-min.png\" decoding=\"async\" height=\"50\" loading=\"lazy\" onload=\"Wpfcll.r(this,true);\" src=\"https://warstek.com/wp-content/plugins/wp-fastest-cache-premium/pro/images/blank.gif\" width=\"163\"/></p>,\n",
       " <p><a href=\"https://themeisle.com/themes/neve/\" rel=\"nofollow\">Neve</a> | Diberdayakan oleh <a href=\"http://wordpress.org\" rel=\"nofollow\">WordPress</a></p>,\n",
       " <p class=\"widget-title\">Kontak</p>,\n",
       " <p>Address: Jl. Sukolilo Baru gg. VI no 10 | Surabaya | Indonesia<br> Phone: (+62)87750118140<br> Email: warstek.jurnal@gmail.com<br/> Office Hour: 08.00 WIB  – 15.00 WIB (Monday – Friday)</br></br></p>]"
      ]
     },
     "execution_count": 7,
     "metadata": {},
     "output_type": "execute_result"
    }
   ],
   "source": [
    "wp.find_all(\"p\")"
   ]
  },
  {
   "cell_type": "code",
   "execution_count": 8,
   "metadata": {},
   "outputs": [
    {
     "data": {
      "text/plain": [
       "['',\n",
       " 'Pada hari Minggu lalu (19 September 2021), terjadi gangguan jaringan internet pada Telkomsel dan Indihome. Gangguan tersebut menyebabkan penurunan kualitas layanan TelkomGroup baik fixed maupun mobile broadband di beberapa wilayah Indonesia. Di masa pandemi yang menuntut orang untuk berada di rumah seperti ini, gangguan internet tentu menjadi masalah besar. Berbagai kegiatan penting seperti Seleksi Kompetensi Dasar (SKD) CPNS mengalami penundaan. Netizen pun banyak berkomentar negatif terkait hal ini. Saat artikel ini dirilis, gangguan tersebut mungkin belum benar-benar terselesaikan.',\n",
       " 'Gangguan tersebut disebabkan oleh masalah pada sistem komunikasi kabel laut JaSuKa (Jawa, Sumatera dan Kalimantan) ruas Batam-Pontianak. Telkom memperkirakan proses perbaikan kabel laut yang terganggu akan berlangsung sekitar sebulan. Meski begitu, Telkom mencoba berbagai alternatif agar jaringan internet tetap dapat berjalan sebaik mungkin, meski tentu tidak sebaik ketika kondisi normal. ',\n",
       " 'Bagaimana pun juga, gangguan ini membuat banyak orang bertanya-tanya, “Apa hubungannya kabel di laut dengan internet?”, “Kenapa jaringan internet itu malah lewat kabel laut?”, “Kenapa nggak pakai satelit aja?”, “Kenapa jaringannya tidak segera membaik?”, dan lainnya. Artikel singkat ini akan mencoba membahas sedikit terkait hal itu. ',\n",
       " 'Internet sering diasosiasikan dengan kata cloud atau wireless sehingga kita merasa bahwa internet itu dibawa oleh udara di sekitar kita. Ketika kita mendengar kata “jaringan internet”, yang terbayang mungkin gelombang antara menara pemancar di Bumi dengan satelit di angkasa. Itu tidak sepenuhnya salah. Internet memang ada di sekitar kita dan satelit memegang peran penting untuk itu. Namun, persepsi itu membuat kita melupakan bagian lain dari internet. Bagian terpenting yang sangat vital namun tidak akan pernah kita lihat, yaitu kabel laut. Sebelumnya, perlu kita ketahui bersama bahwa:',\n",
       " '99% Komunikasi Data Internasional itu Melalui Kabel Laut',\n",
       " 'Itu adalah kalimat yang sudah banyak disampaikan di berbagai media massa, namun sepertinya masih belum banyak diketahui masyarakat umum. Lebih detailnya lagi, hanya sekitar 300 kabel bawah laut yang bertanggung jawab terhadap 99% lalu lintas komunikasi data internasional. ',\n",
       " '',\n",
       " '',\n",
       " '\\n\\n',\n",
       " 'Gambar di atas merupakan jaringan kabel laut di dunia yang dapat diakses di www.submarinecablemap.com. Di sana, kita tidak hanya bisa melihat jaringan kabel secara keseluruhan, namun juga melihat lebih detail terkait salah satu kabel yang ada. Dari gambar di atas, jaringannya memang terlihat sangat banyak dan sangat rumit. Namun, kita perlu ingat bahwa komunikasi yang senantiasa terjadi di internet itu juga sangat banyak dan sangat rumit, jauh lebih banyak dan lebih rumit dari yang bisa kita bayangkan. ',\n",
       " 'Ketika kita mengirim satu chat ke teman di samping kita misalnya. Bisa jadi chat kita akan menempuh perjalanan yang amat sangat jauh. Mulai dari puluhan kilometer jalur darat secara wireless, kemudian melalui ribuan kilometer kabel laut, menuju ke data center di China atau Amerika, lalu kembali lagi ke Indonesia melalui kabel laut, dan sampai ke teman di samping kita  secara wireless. Itu salah satu skenario yang mungkin terjadi, bisa saja jauh lebih pendek atau jauh lebih panjang. Sebagai mahasiswa Teknik Elektro yang pernah sedikit mendalami internet, yang bisa penulis katakan terkait internet adalah “It’s never been simple”',\n",
       " 'Ketika mendengar bahwa 99% internet itu melewati kabel laut, apa bayangan kita terkait bentuk fisik dari kabel laut itu? Ukurannya mungkin memang sangat bervariasi, namun gambar berikut bisa memberikan gambaran bahwa ukuran kabelnya bisa jadi hanya sekecil ini',\n",
       " 'Hampir seluruh luasannya digunakan sebagai pelindung. Bagian yang mengalirkan informasi adalah fiber optik yang ukurannya tidak berbeda jauh dari sehelai rambut kita. Meski sangat kecil, dia mampu membawa informasi dengan sangat cepat, mendekati kecepatan cahaya. Itu karena informasi dibawa bukan sebagai sinyal listrik seperti kabel di rumah, namun sebagai sinyal cahaya. Kapasitasnya juga sangat besar, satu helai saja bisa memiliki kapasitas 100 gigabit per sekon. [Baca: Dasar Komunikasi Fiber Optik dan FTTH (Fiber To The Home)]',\n",
       " 'Dengan itu semua, kabel laut jauh lebih cepat daripada satelit. Itu karena satelit yang biasanya digunakan untuk internet berada puluhan ribu kilometer di atas kita. Sementara itu, jalur melalui laut tidak akan lebih dari belasan ribu kilometer saja. Kapasitas transfer data dari satelit juga jauh lebih sulit untuk ditingkatkan dibanding kabel laut. Maka, meski keduanya memanfaatkan kecepatan cahaya, secara umum kabel laut tetap jauh lebih cepat daripada satelit. (Baca: SpaceX Luncurkan 60 Satelit Penyedia Internet Starlink)',\n",
       " 'Namun, kabel laut juga memiliki banyak masalah. Banyak pihak yang menyebutkan bahwa kabel laut yang menjadi tulang punggung internet kita ini sebenarnya sangatlah rentan. Kabel laut dapat mengalami masalah akibat faktor alam, namun ini hanya mencakup 14 persen saja.  Association of Sea Cable Communication Systems menyebutkan bahwa sebanyak 47% gangguan kabel laut disebabkan oleh jangkar kapal. Sementara itu, 28% disebabkan oleh sektor perikanan yang menggunakan FAD (fish aggregating devices). Di Indonesia pun, jangkar juga menjadi penyebab gangguan kabel terbesar. Hal itu mengingat lautan Indonesia juga sering dilewati banyak kapal. ',\n",
       " 'Kabel laut yang ada di negeri kita juga cukup banyak. Hal itu dapat dilihat pada Gambar berikut yang juga didapatkan dari  www.submarinecablemap.com. Pada Gambar ini, jaringan kabel JaSuKa yang dimiliki Telkom Indonesia terlihat berwarna biru tua dan menghubungkan berbagai titik di Jawa, Sumatera, dan Kalimantan. JaSuKa memiliki total panjang hampir 11 ribu kilometer dan disebut menjadi salah satu yang terpanjang di dunia. ',\n",
       " 'Kabel laut memang jauh lebih murah daripada satelit, namun tetap saja tidak mudah dan tidak sederhana. Baik perencanaan maupun pengelolaannya memerlukan banyak pengorbanan. Ini wajar saja mengingat dunia bawah laut sangatlah kompleks dan penuh dengan berbagai hal yang tak terduga. Perlu diketahui pula bahwa setiap beberapa puluh kilometer, perlu terdapat repeater untuk menguatkan kembali sinyal cahaya yang telah melemah. Melihat kompleksitas itu, wajar saja jika perbaikan gangguan tidak bisa selesai dalam satu malam. ',\n",
       " 'Meski demikian, sistem yang besar umumnya memiliki berbagai alternatif jika sistem utamanya gagal. Hal ini juga kita dengar dari pihak Telkom, bahwa jalur backup dan alternatif telah diaktifkan untuk destinasi utama tertentu. Berbagai hal teknis yang tidak akan dipahami masyarakat umum pasti juga telah dilakukan. ',\n",
       " 'Bagaimana pun juga, gangguan ini menunjukan pada kita semua bahwa sistem internet di Indonesia sebenarnya masih belum kuat dan sangat rentan, apalagi jika kita meninjau Indonesia Timur. Di satu sisi, masyarakat umum perlu menyadari bahwa sistem internet secara fisiknya memang sangat kompleks dan sangat rentan terhadap berbagai gangguan serta tidak bisa diperbaiki dengan mudah. Di sisi lain, berbagai pihak yang berpartisipasi langsung di dalamnya perlu terus melakukan evaluasi dan pengembangan agar sistem internet di negeri kita dapat menjadi lebih handal. (Baca: Analisis terhadap Kualitas Jaringan Internet Indonesia yang Memburuk)',\n",
       " '        Setelah selesai membaca, yuk berikan artikel ini penilaian!      ',\n",
       " '        Klik berdasarkan jumlah bintang untuk menilai!      ',\n",
       " '',\n",
       " '      Rata-rata nilai 5 / 5. Banyaknya vote: 4 ',\n",
       " '      Belum ada yang menilai! Yuk jadi yang pertama kali menilai!    ',\n",
       " '',\n",
       " 'Alamat email Anda tidak akan dipublikasikan. Ruas yang wajib ditandai *',\n",
       " 'Nama * ',\n",
       " 'Email * ',\n",
       " 'Situs Web ',\n",
       " 'Komentar * ',\n",
       " ' \\n\\n',\n",
       " 'Cari Artikel',\n",
       " 'Artikel Pilihan Editor',\n",
       " ' Penyakit diabetes merupakan sebuah kondisi medis yang terjadi ketika kadar gula (glukosa) dalam darah seseorang menjadi sangat tinggi. Glukosa merupakan … ',\n",
       " ' Pengantar Minyak Jelantah Minyak jelantah merupakan minyak bekas hasil dari penggunaan minyak goreng baik itu penggunaan rumah tangga, industri dan … ',\n",
       " ' Oleh: Meidita Kemala Sari dan Nadatiya Ngamarotun Fulloh Apa itu Perawatan Saluran Akar Gigi Saat ini masyarakat semakin menyadari pentingnya … ',\n",
       " 'Artikel Terpopuler',\n",
       " '\\nPestisida Alami untuk Hama pada Tanaman Mawar\\n',\n",
       " '\\nPeran Bioinformatika dalam Pengembangan Vaksin\\n',\n",
       " '\\n16 Quote dari Ilmuwan, Penemu, dan Inovator yang Dapat Meningkatkan Semangatmu dalam Menguasai Sains dan Teknologi!\\n',\n",
       " '\\nIkan Hiu dan Remora, bukti kisah kasih yang nyata!\\n',\n",
       " '\\nMengapa Sains Selalu Berkembang?\\n',\n",
       " '',\n",
       " 'Neve | Diberdayakan oleh WordPress',\n",
       " 'Kontak',\n",
       " 'Address: Jl. Sukolilo Baru gg. VI no 10 | Surabaya | Indonesia Phone: (+62)87750118140 Email: warstek.jurnal@gmail.com Office Hour: 08.00 WIB \\xa0– 15.00 WIB (Monday – Friday)']"
      ]
     },
     "execution_count": 8,
     "metadata": {},
     "output_type": "execute_result"
    }
   ],
   "source": [
    "full_text = []\n",
    "for paragraf in wp.find_all('p'):\n",
    "    full_text.append(paragraf.getText())\n",
    "\n",
    "full_text"
   ]
  },
  {
   "cell_type": "code",
   "execution_count": 9,
   "metadata": {},
   "outputs": [
    {
     "data": {
      "text/plain": [
       "['Pada hari Minggu lalu (19 September 2021), terjadi gangguan jaringan internet pada Telkomsel dan Indihome. Gangguan tersebut menyebabkan penurunan kualitas layanan TelkomGroup baik fixed maupun mobile broadband di beberapa wilayah Indonesia. Di masa pandemi yang menuntut orang untuk berada di rumah seperti ini, gangguan internet tentu menjadi masalah besar. Berbagai kegiatan penting seperti Seleksi Kompetensi Dasar (SKD) CPNS mengalami penundaan. Netizen pun banyak berkomentar negatif terkait hal ini. Saat artikel ini dirilis, gangguan tersebut mungkin belum benar-benar terselesaikan.',\n",
       " 'Gangguan tersebut disebabkan oleh masalah pada sistem komunikasi kabel laut JaSuKa (Jawa, Sumatera dan Kalimantan) ruas Batam-Pontianak. Telkom memperkirakan proses perbaikan kabel laut yang terganggu akan berlangsung sekitar sebulan. Meski begitu, Telkom mencoba berbagai alternatif agar jaringan internet tetap dapat berjalan sebaik mungkin, meski tentu tidak sebaik ketika kondisi normal.',\n",
       " 'Bagaimana pun juga, gangguan ini membuat banyak orang bertanya-tanya, “Apa hubungannya kabel di laut dengan internet?”, “Kenapa jaringan internet itu malah lewat kabel laut?”, “Kenapa nggak pakai satelit aja?”, “Kenapa jaringannya tidak segera membaik?”, dan lainnya. Artikel singkat ini akan mencoba membahas sedikit terkait hal itu.',\n",
       " 'Internet sering diasosiasikan dengan kata cloud atau wireless sehingga kita merasa bahwa internet itu dibawa oleh udara di sekitar kita. Ketika kita mendengar kata “jaringan internet”, yang terbayang mungkin gelombang antara menara pemancar di Bumi dengan satelit di angkasa. Itu tidak sepenuhnya salah. Internet memang ada di sekitar kita dan satelit memegang peran penting untuk itu. Namun, persepsi itu membuat kita melupakan bagian lain dari internet. Bagian terpenting yang sangat vital namun tidak akan pernah kita lihat, yaitu kabel laut. Sebelumnya, perlu kita ketahui bersama bahwa:',\n",
       " '99% Komunikasi Data Internasional itu Melalui Kabel Laut',\n",
       " 'Itu adalah kalimat yang sudah banyak disampaikan di berbagai media massa, namun sepertinya masih belum banyak diketahui masyarakat umum. Lebih detailnya lagi, hanya sekitar 300 kabel bawah laut yang bertanggung jawab terhadap 99% lalu lintas komunikasi data internasional.',\n",
       " '',\n",
       " 'Gambar di atas merupakan jaringan kabel laut di dunia yang dapat diakses di www.submarinecablemap.com. Di sana, kita tidak hanya bisa melihat jaringan kabel secara keseluruhan, namun juga melihat lebih detail terkait salah satu kabel yang ada. Dari gambar di atas, jaringannya memang terlihat sangat banyak dan sangat rumit. Namun, kita perlu ingat bahwa komunikasi yang senantiasa terjadi di internet itu juga sangat banyak dan sangat rumit, jauh lebih banyak dan lebih rumit dari yang bisa kita bayangkan.',\n",
       " 'Ketika kita mengirim satu chat ke teman di samping kita misalnya. Bisa jadi chat kita akan menempuh perjalanan yang amat sangat jauh. Mulai dari puluhan kilometer jalur darat secara wireless, kemudian melalui ribuan kilometer kabel laut, menuju ke data center di China atau Amerika, lalu kembali lagi ke Indonesia melalui kabel laut, dan sampai ke teman di samping kita  secara wireless. Itu salah satu skenario yang mungkin terjadi, bisa saja jauh lebih pendek atau jauh lebih panjang. Sebagai mahasiswa Teknik Elektro yang pernah sedikit mendalami internet, yang bisa penulis katakan terkait internet adalah “It’s never been simple”',\n",
       " 'Ketika mendengar bahwa 99% internet itu melewati kabel laut, apa bayangan kita terkait bentuk fisik dari kabel laut itu? Ukurannya mungkin memang sangat bervariasi, namun gambar berikut bisa memberikan gambaran bahwa ukuran kabelnya bisa jadi hanya sekecil ini',\n",
       " 'Hampir seluruh luasannya digunakan sebagai pelindung. Bagian yang mengalirkan informasi adalah fiber optik yang ukurannya tidak berbeda jauh dari sehelai rambut kita. Meski sangat kecil, dia mampu membawa informasi dengan sangat cepat, mendekati kecepatan cahaya. Itu karena informasi dibawa bukan sebagai sinyal listrik seperti kabel di rumah, namun sebagai sinyal cahaya. Kapasitasnya juga sangat besar, satu helai saja bisa memiliki kapasitas 100 gigabit per sekon. [Baca: Dasar Komunikasi Fiber Optik dan FTTH (Fiber To The Home)]',\n",
       " 'Dengan itu semua, kabel laut jauh lebih cepat daripada satelit. Itu karena satelit yang biasanya digunakan untuk internet berada puluhan ribu kilometer di atas kita. Sementara itu, jalur melalui laut tidak akan lebih dari belasan ribu kilometer saja. Kapasitas transfer data dari satelit juga jauh lebih sulit untuk ditingkatkan dibanding kabel laut. Maka, meski keduanya memanfaatkan kecepatan cahaya, secara umum kabel laut tetap jauh lebih cepat daripada satelit. (Baca: SpaceX Luncurkan 60 Satelit Penyedia Internet Starlink)',\n",
       " 'Namun, kabel laut juga memiliki banyak masalah. Banyak pihak yang menyebutkan bahwa kabel laut yang menjadi tulang punggung internet kita ini sebenarnya sangatlah rentan. Kabel laut dapat mengalami masalah akibat faktor alam, namun ini hanya mencakup 14 persen saja.  Association of Sea Cable Communication Systems menyebutkan bahwa sebanyak 47% gangguan kabel laut disebabkan oleh jangkar kapal. Sementara itu, 28% disebabkan oleh sektor perikanan yang menggunakan FAD (fish aggregating devices). Di Indonesia pun, jangkar juga menjadi penyebab gangguan kabel terbesar. Hal itu mengingat lautan Indonesia juga sering dilewati banyak kapal.',\n",
       " 'Kabel laut yang ada di negeri kita juga cukup banyak. Hal itu dapat dilihat pada Gambar berikut yang juga didapatkan dari  www.submarinecablemap.com. Pada Gambar ini, jaringan kabel JaSuKa yang dimiliki Telkom Indonesia terlihat berwarna biru tua dan menghubungkan berbagai titik di Jawa, Sumatera, dan Kalimantan. JaSuKa memiliki total panjang hampir 11 ribu kilometer dan disebut menjadi salah satu yang terpanjang di dunia.',\n",
       " 'Kabel laut memang jauh lebih murah daripada satelit, namun tetap saja tidak mudah dan tidak sederhana. Baik perencanaan maupun pengelolaannya memerlukan banyak pengorbanan. Ini wajar saja mengingat dunia bawah laut sangatlah kompleks dan penuh dengan berbagai hal yang tak terduga. Perlu diketahui pula bahwa setiap beberapa puluh kilometer, perlu terdapat repeater untuk menguatkan kembali sinyal cahaya yang telah melemah. Melihat kompleksitas itu, wajar saja jika perbaikan gangguan tidak bisa selesai dalam satu malam.',\n",
       " 'Meski demikian, sistem yang besar umumnya memiliki berbagai alternatif jika sistem utamanya gagal. Hal ini juga kita dengar dari pihak Telkom, bahwa jalur backup dan alternatif telah diaktifkan untuk destinasi utama tertentu. Berbagai hal teknis yang tidak akan dipahami masyarakat umum pasti juga telah dilakukan.',\n",
       " 'Bagaimana pun juga, gangguan ini menunjukan pada kita semua bahwa sistem internet di Indonesia sebenarnya masih belum kuat dan sangat rentan, apalagi jika kita meninjau Indonesia Timur. Di satu sisi, masyarakat umum perlu menyadari bahwa sistem internet secara fisiknya memang sangat kompleks dan sangat rentan terhadap berbagai gangguan serta tidak bisa diperbaiki dengan mudah. Di sisi lain, berbagai pihak yang berpartisipasi langsung di dalamnya perlu terus melakukan evaluasi dan pengembangan agar sistem internet di negeri kita dapat menjadi lebih handal. (Baca: Analisis terhadap Kualitas Jaringan Internet Indonesia yang Memburuk)',\n",
       " 'Setelah selesai membaca, yuk berikan artikel ini penilaian!',\n",
       " 'Klik berdasarkan jumlah bintang untuk menilai!',\n",
       " 'Rata-rata nilai 5 / 5. Banyaknya vote: 4',\n",
       " 'Belum ada yang menilai! Yuk jadi yang pertama kali menilai!',\n",
       " 'Alamat email Anda tidak akan dipublikasikan. Ruas yang wajib ditandai *',\n",
       " 'Nama *',\n",
       " 'Email *',\n",
       " 'Situs Web',\n",
       " 'Komentar *',\n",
       " '',\n",
       " 'Cari Artikel',\n",
       " 'Artikel Pilihan Editor',\n",
       " 'Penyakit diabetes merupakan sebuah kondisi medis yang terjadi ketika kadar gula (glukosa) dalam darah seseorang menjadi sangat tinggi. Glukosa merupakan …',\n",
       " 'Pengantar Minyak Jelantah Minyak jelantah merupakan minyak bekas hasil dari penggunaan minyak goreng baik itu penggunaan rumah tangga, industri dan …',\n",
       " 'Oleh: Meidita Kemala Sari dan Nadatiya Ngamarotun Fulloh Apa itu Perawatan Saluran Akar Gigi Saat ini masyarakat semakin menyadari pentingnya …',\n",
       " 'Artikel Terpopuler',\n",
       " 'Pestisida Alami untuk Hama pada Tanaman Mawar',\n",
       " 'Peran Bioinformatika dalam Pengembangan Vaksin',\n",
       " '16 Quote dari Ilmuwan, Penemu, dan Inovator yang Dapat Meningkatkan Semangatmu dalam Menguasai Sains dan Teknologi!',\n",
       " 'Ikan Hiu dan Remora, bukti kisah kasih yang nyata!',\n",
       " 'Mengapa Sains Selalu Berkembang?',\n",
       " 'Neve | Diberdayakan oleh WordPress',\n",
       " 'Kontak',\n",
       " 'Address: Jl. Sukolilo Baru gg. VI no 10 | Surabaya | Indonesia Phone: (+62)87750118140 Email: warstek.jurnal@gmail.com Office Hour: 08.00 WIB \\xa0– 15.00 WIB (Monday – Friday)']"
      ]
     },
     "execution_count": 9,
     "metadata": {},
     "output_type": "execute_result"
    }
   ],
   "source": [
    "# menghapus none dari list full_text sekaligus membersihkan elemen list  dari whitespace menggunakan fungsi strip()\n",
    "# list comprehension\n",
    "\n",
    "full_text = [paragraf.strip() for paragraf in full_text if paragraf != \"\"]\n",
    "full_text"
   ]
  },
  {
   "cell_type": "code",
   "execution_count": 10,
   "metadata": {},
   "outputs": [
    {
     "data": {
      "text/plain": [
       "'Pada hari Minggu lalu (19 September 2021), terjadi gangguan jaringan internet pada Telkomsel dan Indihome. Gangguan tersebut menyebabkan penurunan kualitas layanan TelkomGroup baik fixed maupun mobile broadband di beberapa wilayah Indonesia. Di masa pandemi yang menuntut orang untuk berada di rumah seperti ini, gangguan internet tentu menjadi masalah besar. Berbagai kegiatan penting seperti Seleksi Kompetensi Dasar (SKD) CPNS mengalami penundaan. Netizen pun banyak berkomentar negatif terkait hal ini. Saat artikel ini dirilis, gangguan tersebut mungkin belum benar-benar terselesaikan. Gangguan tersebut disebabkan oleh masalah pada sistem komunikasi kabel laut JaSuKa (Jawa, Sumatera dan Kalimantan) ruas Batam-Pontianak. Telkom memperkirakan proses perbaikan kabel laut yang terganggu akan berlangsung sekitar sebulan. Meski begitu, Telkom mencoba berbagai alternatif agar jaringan internet tetap dapat berjalan sebaik mungkin, meski tentu tidak sebaik ketika kondisi normal. Bagaimana pun juga, gangguan ini membuat banyak orang bertanya-tanya, “Apa hubungannya kabel di laut dengan internet?”, “Kenapa jaringan internet itu malah lewat kabel laut?”, “Kenapa nggak pakai satelit aja?”, “Kenapa jaringannya tidak segera membaik?”, dan lainnya. Artikel singkat ini akan mencoba membahas sedikit terkait hal itu. Internet sering diasosiasikan dengan kata cloud atau wireless sehingga kita merasa bahwa internet itu dibawa oleh udara di sekitar kita. Ketika kita mendengar kata “jaringan internet”, yang terbayang mungkin gelombang antara menara pemancar di Bumi dengan satelit di angkasa. Itu tidak sepenuhnya salah. Internet memang ada di sekitar kita dan satelit memegang peran penting untuk itu. Namun, persepsi itu membuat kita melupakan bagian lain dari internet. Bagian terpenting yang sangat vital namun tidak akan pernah kita lihat, yaitu kabel laut. Sebelumnya, perlu kita ketahui bersama bahwa: 99% Komunikasi Data Internasional itu Melalui Kabel Laut Itu adalah kalimat yang sudah banyak disampaikan di berbagai media massa, namun sepertinya masih belum banyak diketahui masyarakat umum. Lebih detailnya lagi, hanya sekitar 300 kabel bawah laut yang bertanggung jawab terhadap 99% lalu lintas komunikasi data internasional.  Gambar di atas merupakan jaringan kabel laut di dunia yang dapat diakses di www.submarinecablemap.com. Di sana, kita tidak hanya bisa melihat jaringan kabel secara keseluruhan, namun juga melihat lebih detail terkait salah satu kabel yang ada. Dari gambar di atas, jaringannya memang terlihat sangat banyak dan sangat rumit. Namun, kita perlu ingat bahwa komunikasi yang senantiasa terjadi di internet itu juga sangat banyak dan sangat rumit, jauh lebih banyak dan lebih rumit dari yang bisa kita bayangkan. Ketika kita mengirim satu chat ke teman di samping kita misalnya. Bisa jadi chat kita akan menempuh perjalanan yang amat sangat jauh. Mulai dari puluhan kilometer jalur darat secara wireless, kemudian melalui ribuan kilometer kabel laut, menuju ke data center di China atau Amerika, lalu kembali lagi ke Indonesia melalui kabel laut, dan sampai ke teman di samping kita  secara wireless. Itu salah satu skenario yang mungkin terjadi, bisa saja jauh lebih pendek atau jauh lebih panjang. Sebagai mahasiswa Teknik Elektro yang pernah sedikit mendalami internet, yang bisa penulis katakan terkait internet adalah “It’s never been simple” Ketika mendengar bahwa 99% internet itu melewati kabel laut, apa bayangan kita terkait bentuk fisik dari kabel laut itu? Ukurannya mungkin memang sangat bervariasi, namun gambar berikut bisa memberikan gambaran bahwa ukuran kabelnya bisa jadi hanya sekecil ini Hampir seluruh luasannya digunakan sebagai pelindung. Bagian yang mengalirkan informasi adalah fiber optik yang ukurannya tidak berbeda jauh dari sehelai rambut kita. Meski sangat kecil, dia mampu membawa informasi dengan sangat cepat, mendekati kecepatan cahaya. Itu karena informasi dibawa bukan sebagai sinyal listrik seperti kabel di rumah, namun sebagai sinyal cahaya. Kapasitasnya juga sangat besar, satu helai saja bisa memiliki kapasitas 100 gigabit per sekon. [Baca: Dasar Komunikasi Fiber Optik dan FTTH (Fiber To The Home)] Dengan itu semua, kabel laut jauh lebih cepat daripada satelit. Itu karena satelit yang biasanya digunakan untuk internet berada puluhan ribu kilometer di atas kita. Sementara itu, jalur melalui laut tidak akan lebih dari belasan ribu kilometer saja. Kapasitas transfer data dari satelit juga jauh lebih sulit untuk ditingkatkan dibanding kabel laut. Maka, meski keduanya memanfaatkan kecepatan cahaya, secara umum kabel laut tetap jauh lebih cepat daripada satelit. (Baca: SpaceX Luncurkan 60 Satelit Penyedia Internet Starlink) Namun, kabel laut juga memiliki banyak masalah. Banyak pihak yang menyebutkan bahwa kabel laut yang menjadi tulang punggung internet kita ini sebenarnya sangatlah rentan. Kabel laut dapat mengalami masalah akibat faktor alam, namun ini hanya mencakup 14 persen saja.  Association of Sea Cable Communication Systems menyebutkan bahwa sebanyak 47% gangguan kabel laut disebabkan oleh jangkar kapal. Sementara itu, 28% disebabkan oleh sektor perikanan yang menggunakan FAD (fish aggregating devices). Di Indonesia pun, jangkar juga menjadi penyebab gangguan kabel terbesar. Hal itu mengingat lautan Indonesia juga sering dilewati banyak kapal. Kabel laut yang ada di negeri kita juga cukup banyak. Hal itu dapat dilihat pada Gambar berikut yang juga didapatkan dari  www.submarinecablemap.com. Pada Gambar ini, jaringan kabel JaSuKa yang dimiliki Telkom Indonesia terlihat berwarna biru tua dan menghubungkan berbagai titik di Jawa, Sumatera, dan Kalimantan. JaSuKa memiliki total panjang hampir 11 ribu kilometer dan disebut menjadi salah satu yang terpanjang di dunia. Kabel laut memang jauh lebih murah daripada satelit, namun tetap saja tidak mudah dan tidak sederhana. Baik perencanaan maupun pengelolaannya memerlukan banyak pengorbanan. Ini wajar saja mengingat dunia bawah laut sangatlah kompleks dan penuh dengan berbagai hal yang tak terduga. Perlu diketahui pula bahwa setiap beberapa puluh kilometer, perlu terdapat repeater untuk menguatkan kembali sinyal cahaya yang telah melemah. Melihat kompleksitas itu, wajar saja jika perbaikan gangguan tidak bisa selesai dalam satu malam. Meski demikian, sistem yang besar umumnya memiliki berbagai alternatif jika sistem utamanya gagal. Hal ini juga kita dengar dari pihak Telkom, bahwa jalur backup dan alternatif telah diaktifkan untuk destinasi utama tertentu. Berbagai hal teknis yang tidak akan dipahami masyarakat umum pasti juga telah dilakukan. Bagaimana pun juga, gangguan ini menunjukan pada kita semua bahwa sistem internet di Indonesia sebenarnya masih belum kuat dan sangat rentan, apalagi jika kita meninjau Indonesia Timur. Di satu sisi, masyarakat umum perlu menyadari bahwa sistem internet secara fisiknya memang sangat kompleks dan sangat rentan terhadap berbagai gangguan serta tidak bisa diperbaiki dengan mudah. Di sisi lain, berbagai pihak yang berpartisipasi langsung di dalamnya perlu terus melakukan evaluasi dan pengembangan agar sistem internet di negeri kita dapat menjadi lebih handal. (Baca: Analisis terhadap Kualitas Jaringan Internet Indonesia yang Memburuk) Setelah selesai membaca, yuk berikan artikel ini penilaian! Klik berdasarkan jumlah bintang untuk menilai! Rata-rata nilai 5 / 5. Banyaknya vote: 4 Belum ada yang menilai! Yuk jadi yang pertama kali menilai! Alamat email Anda tidak akan dipublikasikan. Ruas yang wajib ditandai * Nama * Email * Situs Web Komentar *  Cari Artikel Artikel Pilihan Editor Penyakit diabetes merupakan sebuah kondisi medis yang terjadi ketika kadar gula (glukosa) dalam darah seseorang menjadi sangat tinggi. Glukosa merupakan … Pengantar Minyak Jelantah Minyak jelantah merupakan minyak bekas hasil dari penggunaan minyak goreng baik itu penggunaan rumah tangga, industri dan … Oleh: Meidita Kemala Sari dan Nadatiya Ngamarotun Fulloh Apa itu Perawatan Saluran Akar Gigi Saat ini masyarakat semakin menyadari pentingnya … Artikel Terpopuler Pestisida Alami untuk Hama pada Tanaman Mawar Peran Bioinformatika dalam Pengembangan Vaksin 16 Quote dari Ilmuwan, Penemu, dan Inovator yang Dapat Meningkatkan Semangatmu dalam Menguasai Sains dan Teknologi! Ikan Hiu dan Remora, bukti kisah kasih yang nyata! Mengapa Sains Selalu Berkembang? Neve | Diberdayakan oleh WordPress Kontak Address: Jl. Sukolilo Baru gg. VI no 10 | Surabaya | Indonesia Phone: (+62)87750118140 Email: warstek.jurnal@gmail.com Office Hour: 08.00 WIB \\xa0– 15.00 WIB (Monday – Friday)'"
      ]
     },
     "execution_count": 10,
     "metadata": {},
     "output_type": "execute_result"
    }
   ],
   "source": [
    "full_text = ' '.join(full_text)\n",
    "full_text"
   ]
  },
  {
   "cell_type": "markdown",
   "metadata": {},
   "source": [
    "# 2. Crawling data with SNSCRAPE\n",
    "\n",
    "social networking services digunakan untuk mengambil data dari media sosial. data yang diambil yang bisa diekstrak berupa query profil pengguna,, hastag, hasil pencarian ataupun elemen lainnya yang ada di jejaring sosial. pada kesempatan kali ini kita akan mencoba mengambil data pada media sosial menggunakan library snsscrape. diantaranya facebook, instagram, telegram dan twitter"
   ]
  },
  {
   "cell_type": "markdown",
   "metadata": {},
   "source": [
    "## Twitter"
   ]
  },
  {
   "cell_type": "code",
   "execution_count": 11,
   "metadata": {},
   "outputs": [
    {
     "name": "stdout",
     "output_type": "stream",
     "text": [
      "Requirement already satisfied: dataclasses in c:\\users\\hp\\anaconda3\\lib\\site-packages (0.6)\n",
      "Note: you may need to restart the kernel to use updated packages.\n"
     ]
    }
   ],
   "source": [
    "%pip install dataclasses"
   ]
  },
  {
   "cell_type": "code",
   "execution_count": 12,
   "metadata": {},
   "outputs": [
    {
     "name": "stdout",
     "output_type": "stream",
     "text": [
      "Requirement already satisfied: DateTime in c:\\users\\hp\\anaconda3\\lib\\site-packages (5.2)\n",
      "Requirement already satisfied: zope.interface in c:\\users\\hp\\anaconda3\\lib\\site-packages (from DateTime) (5.4.0)\n",
      "Requirement already satisfied: pytz in c:\\users\\hp\\anaconda3\\lib\\site-packages (from DateTime) (2022.7)\n",
      "Requirement already satisfied: setuptools in c:\\users\\hp\\anaconda3\\lib\\site-packages (from zope.interface->DateTime) (68.0.0)\n",
      "Note: you may need to restart the kernel to use updated packages.\n"
     ]
    }
   ],
   "source": [
    "%pip install DateTime"
   ]
  },
  {
   "cell_type": "code",
   "execution_count": 13,
   "metadata": {},
   "outputs": [
    {
     "name": "stdout",
     "output_type": "stream",
     "text": [
      "Requirement already satisfied: typing in c:\\users\\hp\\anaconda3\\lib\\site-packages (3.7.4.3)\n",
      "Note: you may need to restart the kernel to use updated packages.\n"
     ]
    }
   ],
   "source": [
    "%pip install typing"
   ]
  },
  {
   "cell_type": "code",
   "execution_count": 14,
   "metadata": {},
   "outputs": [
    {
     "name": "stdout",
     "output_type": "stream",
     "text": [
      "Note: you may need to restart the kernel to use updated packages.\n"
     ]
    }
   ],
   "source": [
    "%pip install -q snscrape==0.3.4"
   ]
  },
  {
   "cell_type": "code",
   "execution_count": 15,
   "metadata": {},
   "outputs": [],
   "source": [
    "import pandas as pd\n",
    "import os\n",
    "from datetime import date\n",
    "import bs4\n",
    "import snscrape"
   ]
  },
  {
   "cell_type": "code",
   "execution_count": 16,
   "metadata": {},
   "outputs": [],
   "source": [
    "today = date.today()\n",
    "end_date = today"
   ]
  },
  {
   "cell_type": "code",
   "execution_count": 17,
   "metadata": {},
   "outputs": [],
   "source": [
    "search_topic = 'chatGPT'\n",
    "from_date = '2023-01-01'"
   ]
  },
  {
   "cell_type": "markdown",
   "metadata": {},
   "source": [
    "## Total jumlah tweets dari hasil pencarian"
   ]
  },
  {
   "cell_type": "code",
   "execution_count": 24,
   "metadata": {},
   "outputs": [
    {
     "name": "stdout",
     "output_type": "stream",
     "text": [
      "Total Tweets : 0\n"
     ]
    }
   ],
   "source": [
    "os.system(f\"snscrape --since {from_date} twitter-search '{search_topic} until:{end_date}' > result-tweets.txt\")\n",
    "if os.stat(\"result-tweets.txt\").st_size == 0:\n",
    "  counter = 0\n",
    "else:\n",
    "  df =pd.read_csv('result-tweets.txt', names=['link'])\n",
    "  counter = df.size\n",
    "\n",
    "print('Total Tweets : '+ str(counter))"
   ]
  },
  {
   "cell_type": "markdown",
   "metadata": {},
   "source": [
    "## mengekstak topik tujuan dari hasil pencarian"
   ]
  },
  {
   "cell_type": "code",
   "execution_count": 19,
   "metadata": {},
   "outputs": [],
   "source": [
    "max_results = 100"
   ]
  },
  {
   "cell_type": "code",
   "execution_count": 20,
   "metadata": {},
   "outputs": [
    {
     "name": "stdout",
     "output_type": "stream",
     "text": [
      "No Tweets found\n"
     ]
    }
   ],
   "source": [
    "extracted_tweets = \"snscrape --format '{content!r}'\"+ f\" --max-results {max_results} --since {from_date} twitter-search '{search_topic} until:{end_date}' > extracted-tweets.txt\"\n",
    "os.system(extracted_tweets)\n",
    "if os.stat(\"extracted-tweets.txt\").st_size == 0:\n",
    "  print('No Tweets found')\n",
    "else:\n",
    "  df = pd.read_csv('extracted-tweets.txt', names=['content'])\n",
    "  for row in df['content'].iteritems():\n",
    "    print(row)"
   ]
  }
 ],
 "metadata": {
  "kernelspec": {
   "display_name": "base",
   "language": "python",
   "name": "python3"
  },
  "language_info": {
   "codemirror_mode": {
    "name": "ipython",
    "version": 3
   },
   "file_extension": ".py",
   "mimetype": "text/x-python",
   "name": "python",
   "nbconvert_exporter": "python",
   "pygments_lexer": "ipython3",
   "version": "3.11.4"
  },
  "orig_nbformat": 4
 },
 "nbformat": 4,
 "nbformat_minor": 2
}
