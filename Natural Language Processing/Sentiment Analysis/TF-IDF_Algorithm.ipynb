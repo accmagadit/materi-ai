{
 "cells": [
  {
   "cell_type": "markdown",
   "metadata": {},
   "source": [
    "# Analisis Sentimen dengan TF-IDF"
   ]
  },
  {
   "cell_type": "markdown",
   "metadata": {},
   "source": [
    "Text classification adalah sebuah proses klasifikasi data dalam bentuk teks seprti tweet, review, artikel dan blog ke dalam katagori yang telah ditentukan. analisis sentimen adalah spesial case dari teks classification, yaitu dimana pendapat atau sentimen pengguna tentang produk apapun dapat diprediksi dari data tekstual\n",
    "\n",
    "kita akan belajar mengembangkan model analisis sentimen yang akan mengugnakna pendekatan pada pembuatan fitur TF-idf dan akan mampu memprediksi sentimen pengguna tentang 6 maskapai penerbangan yang beroperasi di amerika serikat dengan menganalisis melalu tweet pengguna twitter."
   ]
  },
  {
   "cell_type": "code",
   "execution_count": 3,
   "metadata": {},
   "outputs": [
    {
     "name": "stderr",
     "output_type": "stream",
     "text": [
      "[nltk_data] Downloading package stopwords to\n",
      "[nltk_data]     C:\\Users\\HP\\AppData\\Roaming\\nltk_data...\n",
      "[nltk_data]   Package stopwords is already up-to-date!\n"
     ]
    }
   ],
   "source": [
    "import numpy as np\n",
    "import pandas as pd\n",
    "import re\n",
    "import nltk\n",
    "nltk.download('stopwords')\n",
    "from nltk.corpus import stopwords\n",
    "import seaborn as sns\n",
    "import matplotlib.pyplot as plt"
   ]
  },
  {
   "cell_type": "code",
   "execution_count": 5,
   "metadata": {},
   "outputs": [],
   "source": [
    "data = pd.read_csv('https://raw.githubusercontent.com/rasyidev/well-known-datasets/main/Tweets.csv')\n",
    "\n",
    "t_1 = data[data['airline_sentiment']=='positive']\n",
    "t_2 = data[data['airline_sentiment']=='negative']\n",
    "tweets = pd.concat([t_1,t_2])"
   ]
  },
  {
   "cell_type": "code",
   "execution_count": 6,
   "metadata": {},
   "outputs": [
    {
     "data": {
      "text/html": [
       "<div>\n",
       "<style scoped>\n",
       "    .dataframe tbody tr th:only-of-type {\n",
       "        vertical-align: middle;\n",
       "    }\n",
       "\n",
       "    .dataframe tbody tr th {\n",
       "        vertical-align: top;\n",
       "    }\n",
       "\n",
       "    .dataframe thead th {\n",
       "        text-align: right;\n",
       "    }\n",
       "</style>\n",
       "<table border=\"1\" class=\"dataframe\">\n",
       "  <thead>\n",
       "    <tr style=\"text-align: right;\">\n",
       "      <th></th>\n",
       "      <th>tweet_id</th>\n",
       "      <th>airline_sentiment</th>\n",
       "      <th>airline_sentiment_confidence</th>\n",
       "      <th>negativereason</th>\n",
       "      <th>negativereason_confidence</th>\n",
       "      <th>airline</th>\n",
       "      <th>airline_sentiment_gold</th>\n",
       "      <th>name</th>\n",
       "      <th>negativereason_gold</th>\n",
       "      <th>retweet_count</th>\n",
       "      <th>text</th>\n",
       "      <th>tweet_coord</th>\n",
       "      <th>tweet_created</th>\n",
       "      <th>tweet_location</th>\n",
       "      <th>user_timezone</th>\n",
       "    </tr>\n",
       "  </thead>\n",
       "  <tbody>\n",
       "    <tr>\n",
       "      <th>1</th>\n",
       "      <td>570301130888122368</td>\n",
       "      <td>positive</td>\n",
       "      <td>0.3486</td>\n",
       "      <td>NaN</td>\n",
       "      <td>0.0</td>\n",
       "      <td>Virgin America</td>\n",
       "      <td>NaN</td>\n",
       "      <td>jnardino</td>\n",
       "      <td>NaN</td>\n",
       "      <td>0</td>\n",
       "      <td>@VirginAmerica plus you've added commercials t...</td>\n",
       "      <td>NaN</td>\n",
       "      <td>2015-02-24 11:15:59 -0800</td>\n",
       "      <td>NaN</td>\n",
       "      <td>Pacific Time (US &amp; Canada)</td>\n",
       "    </tr>\n",
       "    <tr>\n",
       "      <th>6</th>\n",
       "      <td>570300616901320704</td>\n",
       "      <td>positive</td>\n",
       "      <td>0.6745</td>\n",
       "      <td>NaN</td>\n",
       "      <td>0.0</td>\n",
       "      <td>Virgin America</td>\n",
       "      <td>NaN</td>\n",
       "      <td>cjmcginnis</td>\n",
       "      <td>NaN</td>\n",
       "      <td>0</td>\n",
       "      <td>@VirginAmerica yes, nearly every time I fly VX...</td>\n",
       "      <td>NaN</td>\n",
       "      <td>2015-02-24 11:13:57 -0800</td>\n",
       "      <td>San Francisco CA</td>\n",
       "      <td>Pacific Time (US &amp; Canada)</td>\n",
       "    </tr>\n",
       "    <tr>\n",
       "      <th>8</th>\n",
       "      <td>570299953286942721</td>\n",
       "      <td>positive</td>\n",
       "      <td>0.6559</td>\n",
       "      <td>NaN</td>\n",
       "      <td>NaN</td>\n",
       "      <td>Virgin America</td>\n",
       "      <td>NaN</td>\n",
       "      <td>dhepburn</td>\n",
       "      <td>NaN</td>\n",
       "      <td>0</td>\n",
       "      <td>@virginamerica Well, I didn't…but NOW I DO! :-D</td>\n",
       "      <td>NaN</td>\n",
       "      <td>2015-02-24 11:11:19 -0800</td>\n",
       "      <td>San Diego</td>\n",
       "      <td>Pacific Time (US &amp; Canada)</td>\n",
       "    </tr>\n",
       "    <tr>\n",
       "      <th>9</th>\n",
       "      <td>570295459631263746</td>\n",
       "      <td>positive</td>\n",
       "      <td>1.0000</td>\n",
       "      <td>NaN</td>\n",
       "      <td>NaN</td>\n",
       "      <td>Virgin America</td>\n",
       "      <td>NaN</td>\n",
       "      <td>YupitsTate</td>\n",
       "      <td>NaN</td>\n",
       "      <td>0</td>\n",
       "      <td>@VirginAmerica it was amazing, and arrived an ...</td>\n",
       "      <td>NaN</td>\n",
       "      <td>2015-02-24 10:53:27 -0800</td>\n",
       "      <td>Los Angeles</td>\n",
       "      <td>Eastern Time (US &amp; Canada)</td>\n",
       "    </tr>\n",
       "    <tr>\n",
       "      <th>11</th>\n",
       "      <td>570289724453216256</td>\n",
       "      <td>positive</td>\n",
       "      <td>1.0000</td>\n",
       "      <td>NaN</td>\n",
       "      <td>NaN</td>\n",
       "      <td>Virgin America</td>\n",
       "      <td>NaN</td>\n",
       "      <td>HyperCamiLax</td>\n",
       "      <td>NaN</td>\n",
       "      <td>0</td>\n",
       "      <td>@VirginAmerica I &amp;lt;3 pretty graphics. so muc...</td>\n",
       "      <td>NaN</td>\n",
       "      <td>2015-02-24 10:30:40 -0800</td>\n",
       "      <td>NYC</td>\n",
       "      <td>America/New_York</td>\n",
       "    </tr>\n",
       "  </tbody>\n",
       "</table>\n",
       "</div>"
      ],
      "text/plain": [
       "              tweet_id airline_sentiment  airline_sentiment_confidence  \\\n",
       "1   570301130888122368          positive                        0.3486   \n",
       "6   570300616901320704          positive                        0.6745   \n",
       "8   570299953286942721          positive                        0.6559   \n",
       "9   570295459631263746          positive                        1.0000   \n",
       "11  570289724453216256          positive                        1.0000   \n",
       "\n",
       "   negativereason  negativereason_confidence         airline  \\\n",
       "1             NaN                        0.0  Virgin America   \n",
       "6             NaN                        0.0  Virgin America   \n",
       "8             NaN                        NaN  Virgin America   \n",
       "9             NaN                        NaN  Virgin America   \n",
       "11            NaN                        NaN  Virgin America   \n",
       "\n",
       "   airline_sentiment_gold          name negativereason_gold  retweet_count  \\\n",
       "1                     NaN      jnardino                 NaN              0   \n",
       "6                     NaN    cjmcginnis                 NaN              0   \n",
       "8                     NaN      dhepburn                 NaN              0   \n",
       "9                     NaN    YupitsTate                 NaN              0   \n",
       "11                    NaN  HyperCamiLax                 NaN              0   \n",
       "\n",
       "                                                 text tweet_coord  \\\n",
       "1   @VirginAmerica plus you've added commercials t...         NaN   \n",
       "6   @VirginAmerica yes, nearly every time I fly VX...         NaN   \n",
       "8     @virginamerica Well, I didn't…but NOW I DO! :-D         NaN   \n",
       "9   @VirginAmerica it was amazing, and arrived an ...         NaN   \n",
       "11  @VirginAmerica I &lt;3 pretty graphics. so muc...         NaN   \n",
       "\n",
       "                tweet_created    tweet_location               user_timezone  \n",
       "1   2015-02-24 11:15:59 -0800               NaN  Pacific Time (US & Canada)  \n",
       "6   2015-02-24 11:13:57 -0800  San Francisco CA  Pacific Time (US & Canada)  \n",
       "8   2015-02-24 11:11:19 -0800         San Diego  Pacific Time (US & Canada)  \n",
       "9   2015-02-24 10:53:27 -0800       Los Angeles  Eastern Time (US & Canada)  \n",
       "11  2015-02-24 10:30:40 -0800               NYC            America/New_York  "
      ]
     },
     "execution_count": 6,
     "metadata": {},
     "output_type": "execute_result"
    }
   ],
   "source": [
    "tweets.head()"
   ]
  },
  {
   "cell_type": "code",
   "execution_count": 9,
   "metadata": {},
   "outputs": [
    {
     "data": {
      "text/plain": [
       "(11541, 15)"
      ]
     },
     "execution_count": 9,
     "metadata": {},
     "output_type": "execute_result"
    }
   ],
   "source": [
    "tweets.shape"
   ]
  },
  {
   "cell_type": "markdown",
   "metadata": {},
   "source": [
    "## Eksplorasi Data"
   ]
  },
  {
   "cell_type": "code",
   "execution_count": 10,
   "metadata": {},
   "outputs": [
    {
     "data": {
      "text/plain": [
       "(array([0, 1]), [Text(0, 0, 'positive'), Text(1, 0, 'negative')])"
      ]
     },
     "execution_count": 10,
     "metadata": {},
     "output_type": "execute_result"
    },
    {
     "data": {
      "image/png": "[encoded data removed]",
      "text/plain": [
       "<Figure size 1200x500 with 1 Axes>"
      ]
     },
     "metadata": {},
     "output_type": "display_data"
    }
   ],
   "source": [
    "plt.figure(figsize=(12,5))\n",
    "sns.countplot(x='airline_sentiment', data=tweets)\n",
    "plt.title('Distribusi class sentiment Airline', fontsize=16)\n",
    "plt.ylabel('Class Counts', fontsize=16)\n",
    "plt.xlabel('Class Label', fontsize=16)\n",
    "plt.xticks(rotation='vertical')"
   ]
  },
  {
   "cell_type": "code",
   "execution_count": 11,
   "metadata": {},
   "outputs": [
    {
     "data": {
      "text/plain": [
       "<Axes: xlabel='airline', ylabel='count'>"
      ]
     },
     "execution_count": 11,
     "metadata": {},
     "output_type": "execute_result"
    },
    {
     "data": {
      "image/png": "[encoded data removed]",
      "text/plain": [
       "<Figure size 640x480 with 1 Axes>"
      ]
     },
     "metadata": {},
     "output_type": "display_data"
    }
   ],
   "source": [
    "sns.countplot(x='airline',data=tweets)"
   ]
  },
  {
   "cell_type": "code",
   "execution_count": 12,
   "metadata": {},
   "outputs": [
    {
     "data": {
      "text/plain": [
       "<Axes: xlabel='airline', ylabel='count'>"
      ]
     },
     "execution_count": 12,
     "metadata": {},
     "output_type": "execute_result"
    },
    {
     "data": {
      "image/png": "[encoded data removed]",
      "text/plain": [
       "<Figure size 640x480 with 1 Axes>"
      ]
     },
     "metadata": {},
     "output_type": "display_data"
    }
   ],
   "source": [
    "sns.countplot(x='airline', hue='airline_sentiment', data=tweets)"
   ]
  },
  {
   "cell_type": "markdown",
   "metadata": {},
   "source": [
    "### Pemroresan Data"
   ]
  },
  {
   "cell_type": "code",
   "execution_count": 14,
   "metadata": {},
   "outputs": [
    {
     "name": "stdout",
     "output_type": "stream",
     "text": [
      "['negative', 'positive']\n",
      "(11541,)\n",
      "@VirginAmerica plus you've added commercials to the experience... tacky.\n",
      "(11541,)\n",
      "1\n"
     ]
    }
   ],
   "source": [
    "from sklearn.preprocessing import LabelEncoder\n",
    "\n",
    "x = tweets.iloc[:,10].values\n",
    "le = LabelEncoder()\n",
    "le.fit(['positive','negative'])\n",
    "\n",
    "print(list(le.classes_))\n",
    "y=le.transform(tweets.iloc[:,1].values)\n",
    "\n",
    "print(x.shape)\n",
    "print(x[0])\n",
    "print(y.shape)\n",
    "print(y[0])"
   ]
  },
  {
   "cell_type": "code",
   "execution_count": 20,
   "metadata": {},
   "outputs": [],
   "source": [
    "processed_tweets = []\n",
    "\n",
    "for tweet in range(0, len(x)):\n",
    "    #hapus semua spesial karakter\n",
    "    processed_tweet = re.sub(r'\\W',' ', str(x[tweet]))\n",
    "\n",
    "    #hapus semua single characters\n",
    "    processed_tweet = re.sub(r'\\s+[a-zA-z]s+',' ', processed_tweet)\n",
    "\n",
    "    #hapus single karakter dari awal\n",
    "    processed_tweet = re.sub(r'\\^[a-zA-z]s+',' ', processed_tweet)\n",
    "\n",
    "    #subsitusi multipe spaces with single space\n",
    "    processed_tweet = re.sub(r'\\s+',' ', processed_tweet, flags=re.I)\n",
    "\n",
    "    #hapus prefixed 'b'\n",
    "    processed_tweet = re.sub(r'\\^b\\s+',' ', processed_tweet)\n",
    "\n",
    "    #ubah menjadi lowercase\n",
    "    processed_tweet = processed_tweet.lower()\n",
    "\n",
    "    #masukkan ke list kosong yang telah dibuat sebelumnya\n",
    "    processed_tweets.append(processed_tweet)"
   ]
  },
  {
   "cell_type": "markdown",
   "metadata": {},
   "source": [
    "\n",
    "Mari kita lihat apa yang terjadi dalam skrip di atas. Pada dasarnya terdiri dari berbagai jenis ekspresi reguler untuk melakukan preprocessing teks. Ekspresi reguler `re.sub(r'\\W', ' ', str(X[tweet]))` berfungsi untuk menghapus semua karakter khusus dari tweet.\n",
    "\n",
    "Ketika menghapus karakter khusus, Kita hanya memiliki satu karakter yang tidak memiliki arti. Misalnya, ketika menghapus karakter khusus dari kata \"Julia's\", Kita dibiarkan \"Julia\" dan \"s\". Di sini \"s\" tidak memiliki arti. Ekspresi reguler `re.sub(r'\\s+[a-zA-Z]\\s+', ' ', processed_tweet)` menghapus semua karakter tunggal kecuali yang ada di awal. Untuk menghapus karakter tunggal dari awal kalimat, digunakan regex `re.sub(r'\\^[a-zA-Z]\\s+', ' ', processed_tweet)`.\n",
    "\n",
    "Selanjutnya yaitu hasil dari menghapus karakter khusus dan spasi tunggal, terdapat beberapa spasi muncul dalam teks. Untuk menghapus beberapa spasi ini dan menggantinya dengan spasi tunggal, gunakan regex `re.sub(r'\\s+', ' ', processed_tweet, flags=re.I)`.\n",
    "\n",
    "Dalam beberapa kasus, dataset memiliki format byte. Dalam kasus seperti itu, karakter \"b\" ditambahkan di awal string. Hapus \"b\" yang berada didepan dengan menggunakan regex  `re.sub(r'^b\\s+', '', processed_tweet)`. Langkah terakhir yaitu ubah teks menjadi huruf kecil untuk menjaga keseragaman."
   ]
  },
  {
   "cell_type": "code",
   "execution_count": 22,
   "metadata": {},
   "outputs": [
    {
     "name": "stdout",
     "output_type": "stream",
     "text": [
      "[\"@VirginAmerica plus you've added commercials to the experience... tacky.\"\n",
      " '@VirginAmerica yes, nearly every time I fly VX this “ear worm” won’t go away :)'\n",
      " \"@virginamerica Well, I didn't…but NOW I DO! :-D\"\n",
      " \"@VirginAmerica it was amazing, and arrived an hour early. You're too good to me.\"\n",
      " '@VirginAmerica I &lt;3 pretty graphics. so much better than minimal iconography. :D']\n"
     ]
    },
    {
     "data": {
      "text/plain": [
       "' amer'"
      ]
     },
     "execution_count": 22,
     "metadata": {},
     "output_type": "execute_result"
    }
   ],
   "source": [
    "print(str(x[:5]))\n",
    "\n",
    "processed_tweet[:5]"
   ]
  },
  {
   "cell_type": "markdown",
   "metadata": {},
   "source": [
    "## Skema TF-IDF untuk Pembuatan Feature Numeric"
   ]
  },
  {
   "cell_type": "markdown",
   "metadata": {},
   "source": [
    "Pendekatan statistik seperti machine learning dan deep learning dapat bekerja dengan baik menggunakan data numerik. Namun, natural language terdiri dari kata-kata dan kalimat. Karena itu, sebelum kita dapat membangun model analisis sentimen, Kita perlu mengubah teks menjadi angka. Beberapa pendekatan telah dikembangkan untuk mengubah teks menjadi angka. Bag of Words, N-gram, dan model Word2Vec adalah beberapa di antaranya.\n",
    "\n",
    "Pada pembahasan ini, Kita akan menggunakan pendekatan Bag of Words dengan skema TF-IDF, untuk mengkonversi teks menjadi angka. Library Python dari Sklearn dilengkapi dengan fungsi bawaan untuk mengimplementasikan pendekatan TF-IDF yang akan kita gunakan nanti. Di sini kita akan mempelajari wawasan singkat tentang pendekatan TF-IDF."
   ]
  },
  {
   "cell_type": "markdown",
   "metadata": {},
   "source": [
    "### Bag of Words"
   ]
  },
  {
   "cell_type": "markdown",
   "metadata": {},
   "source": [
    "Dalam pendekatan bag of words atau sekumpulan kata-kata, dimana semua kosakata dari kata-kata yang unik dalam semua dokumen terbentuk. Kosakata ini berfungsi sebagai feature vektor. Misalkan Anda memiliki tiga dokumen dalam corpus S1, S2, dan S3:\n",
    "* S1 = “It is cold outside”\n",
    "* S2= “The weather is cold”\n",
    "* S3 = “I am outside”\n",
    "\n",
    "Kosakata yang dibentuk menggunakan tiga kalimat di atas adalah:\n",
    "[it, is, cold, outside, the, weather, I,  am]\n",
    "\n",
    "Kosakata kata-kata ini akan digunakan untuk membuat feature vektor dari kalimat. Kita lihat bagaimana hal itu dilakukan feature vektor pada corpus S1:\n",
    "\n",
    "* S1= [1, 1, 1, 1, 0, 0, 0, 0]\n",
    "\n",
    "Pada dasarnya, feature vektor dibuat dengan mencari apakah kata dalam kosakata juga ditemukan dalam kalimat. Jika sebuah kata ditemukan dalam kosakata dan juga dalam kalimat, satu dimasukkan di tempat itu. Jika tidak, maka nol akan dimasukkan. Jadi untuk S1, empat kata pertama dalam kosakata hadir dalam kalimat S1, Kita memiliki empat yang di awal dan kemudian empat nol.\n",
    "\n",
    "Demikian pula, vektor fitur untuk S2 dan S3 adalah:\n",
    "\n",
    "* S2 = [0, 1, 1, 0, 1, 1, 0 , 0]\n",
    "\n",
    "* S3 = [0, 0, 0, 1, 0, 0, 1, 1]"
   ]
  },
  {
   "cell_type": "markdown",
   "metadata": {},
   "source": [
    "### TF-IDF"
   ]
  },
  {
   "cell_type": "markdown",
   "metadata": {},
   "source": [
    "Sekarang Kita tahu cara kerja dari bag of word. Sekarang kita akan melihat bagaimana TF-IDF terkait dengan bag of words.\n",
    "\n",
    "Dalam bag of words yang sederhana, setiap kata diberi arti penting yang sama. Gagasan di balik TF-IDF adalah bahwa kata-kata yang lebih sering muncul dalam satu dokumen dan lebih jarang di dokumen lain harus diberikan prioritas lebih tinggi karena mereka lebih berguna untuk klasifikasi.\n",
    "\n",
    "TF-IDF adalah produk dari dua istilah: TF dan IDF.\n",
    "\n",
    "**Term Frequency** adalah sama dengan berapa kali sebuah kata muncul dalam dokumen tertentu. Itu dihitung sebagai:\n",
    "\n",
    "`TF = (Frekuensi kata dalam dokumen) / (Total kata dalam dokumen)`\n",
    "\n",
    "**Inverse Document Frequency** adalah untuk kata tertentu sama dengan jumlah total dokumen, dibagi dengan jumlah dokumen yang mengandung kata tertentu. Log seluruh istilah dihitung untuk mengurangi dampak division. Itu dapat dihitung sebagai berikut:\n",
    "\n",
    "`IDF = Log ((Jumlah total dokumen) / (Jumlah dokumen yang mengandung kata))`\n",
    "\n",
    "Misalnya, dalam S1, TF untuk kata \"outside\" akan 1/4 = 0,25. Demikian pula, IDF untuk kata \"outside\" di S1 akan menjadi Log (3/2) = 0,176. Nilai dari TF-IDF akan menjadi 0,25 x 0,176 = 0,044.\n",
    "\n",
    "Ini adalah perhitungan yang rumit. Untungnya, Kita tidak harus melakukan semua perhitungan ini. Kelas `TfidfVectorizer` dari modul `sklearn.feature_extraction.text` dapat digunakan untuk membuat vektor fitur yang berisi nilai TF-IDF. Lihatlah skrip berikut:"
   ]
  },
  {
   "cell_type": "code",
   "execution_count": 24,
   "metadata": {},
   "outputs": [],
   "source": [
    "from sklearn.feature_extraction.text import TfidfVectorizer\n",
    "tfidfconverter = TfidfVectorizer(max_features=2000, min_df=5, max_df=0.7 ,stop_words=stopwords.words('english'), \n",
    "                                 ngram_range=(1,3))\n",
    "x1 = tfidfconverter.fit_transform(processed_tweets).toarray()"
   ]
  },
  {
   "cell_type": "markdown",
   "metadata": {},
   "source": [
    "Atribut `max_features` menentukan jumlah kata yang paling banyak muncul di mana Anda ingin membuat feature vektor. Kata-kata yang jarang muncul tidak memainkan peran utama dalam klasifikasi. Karenanya kami hanya menyimpan 2000 kata yang paling sering muncul dalam dataset. Nilai `min_df` dari 5 menentukan bahwa kata tersebut harus muncul di setidaknya 5 dokumen. Demikian pula, nilai `max_df` sebesar 0,7 menetapkan bahwa kata tersebut tidak boleh muncul di lebih dari 70 persen dokumen. Alasan di balik memilih 70 persen sebagai ambang batas adalah bahwa kata-kata yang muncul di lebih dari 70 persen dokumen terlalu umum dan kecil kemungkinannya untuk berperan dalam klasifikasi sentimen.\n",
    "\n",
    "Terakhir, untuk mengonversi dataset menjadi feature vektor TF-IDF yang sesuai, Kita perlu memanggil metode `fit_transform` pada kelas `TfidfVectorizer` dan meneruskannya dengan dataset yang telah kami proses sebelumnya."
   ]
  },
  {
   "cell_type": "markdown",
   "metadata": {},
   "source": [
    "## Membagi Data ke Training dan Test Set"
   ]
  },
  {
   "cell_type": "markdown",
   "metadata": {},
   "source": [
    "Sebelum membangun model analisis sentimen yang sebenarnya, bagi dataset ke training dan test set. Model akan melatih pada training set dan dievaluasi pada test set. Berikut script untuk membagi data menjadi training dan test set:"
   ]
  },
  {
   "cell_type": "code",
   "execution_count": 26,
   "metadata": {},
   "outputs": [],
   "source": [
    "from sklearn.model_selection import train_test_split\n",
    "x_train, x_test, y_train, y_test = train_test_split(x1, y, test_size=0.2, random_state=0)"
   ]
  },
  {
   "cell_type": "markdown",
   "metadata": {},
   "source": [
    "## Pelatihan dan Evaluasi dari Model Klasifikasi Teks"
   ]
  },
  {
   "cell_type": "markdown",
   "metadata": {},
   "source": [
    "Kita telah membagi data ke dalam training dan test set, langkah selanjutnya adalah melatih model pada training set dan mengevaluasi kinerjanya pada test set. Sekarang, gunakan `RandomForestClassifier, Naive Bayes dan SVM` dari modul `sklearn` untuk melatih model. Kita dapat menggunakan classifier lainnya sesuai pilihan. Untuk melatih model, Kita perlu memanggil metode \"fit\" pada objek classifier dan meneruskannya ke training feature set dan training label set seperti yang ditunjukkan di bawah ini:"
   ]
  },
  {
   "cell_type": "markdown",
   "metadata": {},
   "source": [
    "# Random forest"
   ]
  },
  {
   "cell_type": "code",
   "execution_count": 27,
   "metadata": {},
   "outputs": [],
   "source": [
    "import time\n",
    "\n",
    "from sklearn.ensemble import RandomForestClassifier\n",
    "\n",
    "text_classifier_en = RandomForestClassifier(n_estimators=100, random_state=0)\n",
    "t0_en = time.time()\n",
    "text_classifier_en.fit(x_train, y_train)\n",
    "t1_en = time.time()"
   ]
  },
  {
   "cell_type": "markdown",
   "metadata": {},
   "source": [
    "# Naive Bayes"
   ]
  },
  {
   "cell_type": "code",
   "execution_count": 29,
   "metadata": {},
   "outputs": [],
   "source": [
    "from sklearn.naive_bayes import GaussianNB\n",
    "text_classifier_nb = GaussianNB()\n",
    "t0_nb = time.time()\n",
    "text_classifier_nb.fit(x_train, y_train)\n",
    "t1_nb = time.time()"
   ]
  },
  {
   "cell_type": "markdown",
   "metadata": {},
   "source": [
    "# Sklearn"
   ]
  },
  {
   "cell_type": "code",
   "execution_count": 30,
   "metadata": {},
   "outputs": [],
   "source": [
    "from sklearn.svm import SVC\n",
    "text_classifier_svm = SVC(kernel='linear')\n",
    "t0_svm = time.time()\n",
    "text_classifier_svm.fit(x_train, y_train)\n",
    "t1_svm = time.time()"
   ]
  },
  {
   "cell_type": "markdown",
   "metadata": {},
   "source": [
    "Untuk membuat prediksi pada test set, Kita harus melewati test set ke metode \"predict\" seperti yang ditunjukkan di bawah ini:"
   ]
  },
  {
   "cell_type": "code",
   "execution_count": 32,
   "metadata": {},
   "outputs": [
    {
     "name": "stdout",
     "output_type": "stream",
     "text": [
      "21.008885145187378 408.833370923996\n",
      "0.23864269256591797 294.7588288784027\n",
      "22.99062490463257 220.05138230323792\n"
     ]
    }
   ],
   "source": [
    "predictions_en = text_classifier_en.predict(x_test)\n",
    "t2_en = time.time()\n",
    "time_linier_train_en = t1_en - t0_en\n",
    "time_linier_predict_en = t2_en - t1_en\n",
    "\n",
    "predictions_nb = text_classifier_nb.predict(x_test)\n",
    "t2_nb = time.time()\n",
    "time_linier_train_nb = t1_nb - t0_nb\n",
    "time_linier_predict_nb = t2_nb - t1_nb\n",
    "\n",
    "predictions_svm = text_classifier_svm.predict(x_test)\n",
    "t2_svm = time.time()\n",
    "time_linier_train_svm = t1_svm - t0_svm\n",
    "time_linier_predict_svm = t2_svm - t1_svm\n",
    "\n",
    "#training time, prediction time\n",
    "print(time_linier_train_en,time_linier_predict_en)\n",
    "print(time_linier_train_nb,time_linier_predict_nb)\n",
    "print(time_linier_train_svm,time_linier_predict_svm)"
   ]
  },
  {
   "cell_type": "markdown",
   "metadata": {},
   "source": [
    "## Results"
   ]
  },
  {
   "cell_type": "markdown",
   "metadata": {},
   "source": [
    "Terakhir, untuk mengevaluasi model klasifikasi yang digunakan, Kita dapat menggunakan *classification_report, confusion_matrix, accuracy_score, recall_score, precision_score,* dan *f1_score, roc_auc_score* sebagai performance metrics. Metrics ini dapat dihitung menggunakan class dari modul `sklearn.metrics` seperti yang ditunjukkan di bawah ini:"
   ]
  },
  {
   "cell_type": "code",
   "execution_count": 34,
   "metadata": {},
   "outputs": [
    {
     "name": "stdout",
     "output_type": "stream",
     "text": [
      "Random Forest\n",
      "Accuracy  =  89.0 %\n",
      "Recall    =  60.36 %\n",
      "Precision =  78.1 %\n",
      "F1-Score  =  68.09 %\n",
      "ROC AUC   =  0.7813516296668822\n",
      "\n",
      "Naive Bayes\n",
      "Accuracy  =  65.83 %\n",
      "Recall    =  87.31 %\n",
      "Precision =  34.88 %\n",
      "F1-Score  =  49.84 %\n",
      "ROC AUC   =  0.7397514189237733\n",
      "\n",
      "Support Vector Machine\n",
      "Accuracy  =  91.47 %\n",
      "Recall    =  68.6 %\n",
      "Precision =  84.62 %\n",
      "F1-Score  =  75.77 %\n",
      "ROC AUC   =  0.8279306463586943\n",
      "\n",
      "Random Forest\n",
      "[[1784   76]\n",
      " [ 178  271]]\n",
      "\n",
      "Naive Bayest\n",
      "[[1128  732]\n",
      " [  57  392]]\n",
      "\n",
      "Support Vector Machine\n",
      "[[1804   56]\n",
      " [ 141  308]]\n",
      "\n",
      "Random Forest\n",
      "              precision    recall  f1-score   support\n",
      "\n",
      "           0       0.91      0.96      0.93      1860\n",
      "           1       0.78      0.60      0.68       449\n",
      "\n",
      "    accuracy                           0.89      2309\n",
      "   macro avg       0.85      0.78      0.81      2309\n",
      "weighted avg       0.88      0.89      0.88      2309\n",
      "\n",
      "\n",
      "Naive Bayest\n",
      "              precision    recall  f1-score   support\n",
      "\n",
      "           0       0.95      0.61      0.74      1860\n",
      "           1       0.35      0.87      0.50       449\n",
      "\n",
      "    accuracy                           0.66      2309\n",
      "   macro avg       0.65      0.74      0.62      2309\n",
      "weighted avg       0.83      0.66      0.69      2309\n",
      "\n",
      "\n",
      "Support Vector Machine\n",
      "              precision    recall  f1-score   support\n",
      "\n",
      "           0       0.93      0.97      0.95      1860\n",
      "           1       0.85      0.69      0.76       449\n",
      "\n",
      "    accuracy                           0.91      2309\n",
      "   macro avg       0.89      0.83      0.85      2309\n",
      "weighted avg       0.91      0.91      0.91      2309\n",
      "\n",
      "\n"
     ]
    }
   ],
   "source": [
    "from sklearn.metrics import classification_report, confusion_matrix, accuracy_score, recall_score, precision_score, f1_score, roc_auc_score\n",
    "\n",
    "print(\"Random Forest\")\n",
    "print('Accuracy  = ', round(accuracy_score(y_test, predictions_en)*100,2),'%')\n",
    "print('Recall    = ', round(recall_score(y_test, predictions_en)*100,2),'%')\n",
    "print('Precision = ', round(precision_score(y_test, predictions_en)*100,2),'%')\n",
    "print('F1-Score  = ', round(f1_score(y_test, predictions_en)*100,2),'%')\n",
    "print('ROC AUC   = ', roc_auc_score(y_test, predictions_en))\n",
    "print(\"\")\n",
    "print(\"Naive Bayes\")\n",
    "print('Accuracy  = ', round(accuracy_score(y_test, predictions_nb)*100,2),'%')\n",
    "print('Recall    = ', round(recall_score(y_test, predictions_nb)*100,2),'%')\n",
    "print('Precision = ', round(precision_score(y_test, predictions_nb)*100,2),'%')\n",
    "print('F1-Score  = ', round(f1_score(y_test, predictions_nb)*100,2),'%')\n",
    "print('ROC AUC   = ', roc_auc_score(y_test, predictions_nb))\n",
    "print(\"\")\n",
    "print(\"Support Vector Machine\")\n",
    "print('Accuracy  = ', round(accuracy_score(y_test, predictions_svm)*100,2),'%')\n",
    "print('Recall    = ', round(recall_score(y_test, predictions_svm)*100,2),'%')\n",
    "print('Precision = ', round(precision_score(y_test, predictions_svm)*100,2),'%')\n",
    "print('F1-Score  = ', round(f1_score(y_test, predictions_svm)*100,2),'%')\n",
    "print('ROC AUC   = ', roc_auc_score(y_test, predictions_svm))\n",
    "print(\"\")\n",
    "\n",
    "print(\"Random Forest\")\n",
    "print(confusion_matrix(y_test,predictions_en))\n",
    "print(\"\")\n",
    "print(\"Naive Bayest\")\n",
    "print(confusion_matrix(y_test,predictions_nb))\n",
    "print(\"\")\n",
    "print(\"Support Vector Machine\")\n",
    "print(confusion_matrix(y_test,predictions_svm))\n",
    "print(\"\")\n",
    "\n",
    "print(\"Random Forest\")\n",
    "print(classification_report(y_test,predictions_en))\n",
    "print(\"\")\n",
    "print(\"Naive Bayest\")\n",
    "print(classification_report(y_test,predictions_nb))\n",
    "print(\"\")\n",
    "print(\"Support Vector Machine\")\n",
    "print(classification_report(y_test,predictions_svm))\n",
    "print(\"\")"
   ]
  },
  {
   "cell_type": "markdown",
   "metadata": {},
   "source": [
    "### Testing Prediksi"
   ]
  },
  {
   "cell_type": "code",
   "execution_count": 36,
   "metadata": {},
   "outputs": [
    {
     "name": "stdout",
     "output_type": "stream",
     "text": [
      "['negative']\n"
     ]
    }
   ],
   "source": [
    "#Random Forest\n",
    "review = \"Comfort for passenger\"\n",
    "\n",
    "review_vector = tfidfconverter.transform([review]).toarray()\n",
    "pred_text = text_classifier_en.predict(review_vector)\n",
    "pred_text = le.inverse_transform(pred_text)\n",
    "print(pred_text)"
   ]
  },
  {
   "cell_type": "code",
   "execution_count": 37,
   "metadata": {},
   "outputs": [
    {
     "name": "stdout",
     "output_type": "stream",
     "text": [
      "['positive']\n"
     ]
    }
   ],
   "source": [
    "#Naive Bayest\n",
    "review = \"Comfort for passenger\"\n",
    "\n",
    "review_vector = tfidfconverter.transform([review]).toarray()\n",
    "pred_text = text_classifier_nb.predict(review_vector)\n",
    "pred_text = le.inverse_transform(pred_text)\n",
    "print(pred_text)"
   ]
  },
  {
   "cell_type": "code",
   "execution_count": 38,
   "metadata": {},
   "outputs": [
    {
     "name": "stdout",
     "output_type": "stream",
     "text": [
      "['negative']\n"
     ]
    }
   ],
   "source": [
    "#Support Vector Machine\n",
    "review = \"Comfort for passenger\"\n",
    "\n",
    "review_vector = tfidfconverter.transform([review]).toarray()\n",
    "pred_text = text_classifier_svm.predict(review_vector)\n",
    "pred_text = le.inverse_transform(pred_text)\n",
    "print(pred_text)"
   ]
  },
  {
   "cell_type": "code",
   "execution_count": null,
   "metadata": {},
   "outputs": [],
   "source": []
  }
 ],
 "metadata": {
  "kernelspec": {
   "display_name": "base",
   "language": "python",
   "name": "python3"
  },
  "language_info": {
   "codemirror_mode": {
    "name": "ipython",
    "version": 3
   },
   "file_extension": ".py",
   "mimetype": "text/x-python",
   "name": "python",
   "nbconvert_exporter": "python",
   "pygments_lexer": "ipython3",
   "version": "3.11.4"
  },
  "orig_nbformat": 4
 },
 "nbformat": 4,
 "nbformat_minor": 2
}
