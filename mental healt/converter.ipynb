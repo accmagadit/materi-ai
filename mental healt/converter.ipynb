{
 "cells": [
  {
   "cell_type": "code",
   "execution_count": 2,
   "metadata": {},
   "outputs": [],
   "source": [
    "import tensorflow as tf\n",
    "import os \n",
    "\n",
    "# convert keras model to tflite \n",
    "def get_file_size(file_path):\n",
    "    size = os.path.getsize(file_path)\n",
    "    return size\n",
    "\n",
    "def convert_bytes(size, unit=None):\n",
    "    if unit == \"KB\":\n",
    "        return print('File size: ' + str(round(size / 1024, 3)) + ' Kilobytes')\n",
    "    elif unit == \"MB\":\n",
    "        return print('File size: ' + str(round(size / (1024 * 1024), 3)) + ' Megabytes')\n",
    "    else:\n",
    "        return print('File size: ' + str(size) + ' bytes')"
   ]
  },
  {
   "cell_type": "code",
   "execution_count": 3,
   "metadata": {},
   "outputs": [
    {
     "name": "stdout",
     "output_type": "stream",
     "text": [
      "INFO:tensorflow:Assets written to: C:\\Users\\HP\\AppData\\Local\\Temp\\tmp1xadzmff\\assets\n"
     ]
    },
    {
     "name": "stderr",
     "output_type": "stream",
     "text": [
      "INFO:tensorflow:Assets written to: C:\\Users\\HP\\AppData\\Local\\Temp\\tmp1xadzmff\\assets\n"
     ]
    },
    {
     "ename": "ConverterError",
     "evalue": "c:\\Users\\HP\\anaconda3\\Lib\\site-packages\\tensorflow\\python\\saved_model\\save.py:1313:0: error: 'tf.TensorListReserve' op requires element_shape to be static during TF Lite transformation pass\n<unknown>:0: note: loc(fused[\"StatefulPartitionedCall:\", \"StatefulPartitionedCall\"]): called from\nc:\\Users\\HP\\anaconda3\\Lib\\site-packages\\tensorflow\\python\\saved_model\\save.py:1313:0: error: failed to legalize operation 'tf.TensorListReserve' that was explicitly marked illegal\n<unknown>:0: note: loc(fused[\"StatefulPartitionedCall:\", \"StatefulPartitionedCall\"]): called from\n<unknown>:0: error: Lowering tensor list ops is failed. Please consider using Select TF ops and disabling `_experimental_lower_tensor_list_ops` flag in the TFLite converter object. For example, converter.target_spec.supported_ops = [tf.lite.OpsSet.TFLITE_BUILTINS, tf.lite.OpsSet.SELECT_TF_OPS]\\n converter._experimental_lower_tensor_list_ops = False\n",
     "output_type": "error",
     "traceback": [
      "\u001b[1;31m---------------------------------------------------------------------------\u001b[0m",
      "\u001b[1;31mConverterError\u001b[0m                            Traceback (most recent call last)",
      "\u001b[1;32md:\\Kuliah\\Materi\\Orbit Campus\\Materi\\mental healt\\converter.ipynb Cell 2\u001b[0m line \u001b[0;36m6\n\u001b[0;32m      <a href='vscode-notebook-cell:/d%3A/Kuliah/Materi/Orbit%20Campus/Materi/mental%20healt/converter.ipynb#W1sZmlsZQ%3D%3D?line=3'>4</a>\u001b[0m TF_LITE_MODEL_FILE_NAME \u001b[39m=\u001b[39m \u001b[39m\"\u001b[39m\u001b[39mtflite_model.tflite\u001b[39m\u001b[39m\"\u001b[39m\n\u001b[0;32m      <a href='vscode-notebook-cell:/d%3A/Kuliah/Materi/Orbit%20Campus/Materi/mental%20healt/converter.ipynb#W1sZmlsZQ%3D%3D?line=4'>5</a>\u001b[0m tf_lite_converter \u001b[39m=\u001b[39m tf\u001b[39m.\u001b[39mlite\u001b[39m.\u001b[39mTFLiteConverter\u001b[39m.\u001b[39mfrom_keras_model(model)\n\u001b[1;32m----> <a href='vscode-notebook-cell:/d%3A/Kuliah/Materi/Orbit%20Campus/Materi/mental%20healt/converter.ipynb#W1sZmlsZQ%3D%3D?line=5'>6</a>\u001b[0m tflite_model \u001b[39m=\u001b[39m tf_lite_converter\u001b[39m.\u001b[39mconvert()\n\u001b[0;32m      <a href='vscode-notebook-cell:/d%3A/Kuliah/Materi/Orbit%20Campus/Materi/mental%20healt/converter.ipynb#W1sZmlsZQ%3D%3D?line=6'>7</a>\u001b[0m tflite_model_name \u001b[39m=\u001b[39m TF_LITE_MODEL_FILE_NAME\n\u001b[0;32m      <a href='vscode-notebook-cell:/d%3A/Kuliah/Materi/Orbit%20Campus/Materi/mental%20healt/converter.ipynb#W1sZmlsZQ%3D%3D?line=7'>8</a>\u001b[0m \u001b[39mopen\u001b[39m(tflite_model_name, \u001b[39m\"\u001b[39m\u001b[39mwb\u001b[39m\u001b[39m\"\u001b[39m)\u001b[39m.\u001b[39mwrite(tflite_model)\n",
      "File \u001b[1;32mc:\\Users\\HP\\anaconda3\\Lib\\site-packages\\tensorflow\\lite\\python\\lite.py:1065\u001b[0m, in \u001b[0;36m_export_metrics.<locals>.wrapper\u001b[1;34m(self, *args, **kwargs)\u001b[0m\n\u001b[0;32m   1062\u001b[0m \u001b[39m@functools\u001b[39m\u001b[39m.\u001b[39mwraps(convert_func)\n\u001b[0;32m   1063\u001b[0m \u001b[39mdef\u001b[39;00m \u001b[39mwrapper\u001b[39m(\u001b[39mself\u001b[39m, \u001b[39m*\u001b[39margs, \u001b[39m*\u001b[39m\u001b[39m*\u001b[39mkwargs):\n\u001b[0;32m   1064\u001b[0m   \u001b[39m# pylint: disable=protected-access\u001b[39;00m\n\u001b[1;32m-> 1065\u001b[0m   \u001b[39mreturn\u001b[39;00m \u001b[39mself\u001b[39m\u001b[39m.\u001b[39m_convert_and_export_metrics(convert_func, \u001b[39m*\u001b[39margs, \u001b[39m*\u001b[39m\u001b[39m*\u001b[39mkwargs)\n",
      "File \u001b[1;32mc:\\Users\\HP\\anaconda3\\Lib\\site-packages\\tensorflow\\lite\\python\\lite.py:1042\u001b[0m, in \u001b[0;36mTFLiteConverterBase._convert_and_export_metrics\u001b[1;34m(self, convert_func, *args, **kwargs)\u001b[0m\n\u001b[0;32m   1040\u001b[0m \u001b[39mself\u001b[39m\u001b[39m.\u001b[39m_save_conversion_params_metric()\n\u001b[0;32m   1041\u001b[0m start_time \u001b[39m=\u001b[39m time\u001b[39m.\u001b[39mprocess_time()\n\u001b[1;32m-> 1042\u001b[0m result \u001b[39m=\u001b[39m convert_func(\u001b[39mself\u001b[39m, \u001b[39m*\u001b[39margs, \u001b[39m*\u001b[39m\u001b[39m*\u001b[39mkwargs)\n\u001b[0;32m   1043\u001b[0m elapsed_time_ms \u001b[39m=\u001b[39m (time\u001b[39m.\u001b[39mprocess_time() \u001b[39m-\u001b[39m start_time) \u001b[39m*\u001b[39m \u001b[39m1000\u001b[39m\n\u001b[0;32m   1044\u001b[0m \u001b[39mif\u001b[39;00m result:\n",
      "File \u001b[1;32mc:\\Users\\HP\\anaconda3\\Lib\\site-packages\\tensorflow\\lite\\python\\lite.py:1526\u001b[0m, in \u001b[0;36mTFLiteKerasModelConverterV2.convert\u001b[1;34m(self)\u001b[0m\n\u001b[0;32m   1513\u001b[0m \u001b[39m@_export_metrics\u001b[39m\n\u001b[0;32m   1514\u001b[0m \u001b[39mdef\u001b[39;00m \u001b[39mconvert\u001b[39m(\u001b[39mself\u001b[39m):\n\u001b[0;32m   1515\u001b[0m \u001b[39m  \u001b[39m\u001b[39m\"\"\"Converts a keras model based on instance variables.\u001b[39;00m\n\u001b[0;32m   1516\u001b[0m \n\u001b[0;32m   1517\u001b[0m \u001b[39m  Returns:\u001b[39;00m\n\u001b[1;32m   (...)\u001b[0m\n\u001b[0;32m   1524\u001b[0m \u001b[39m      Invalid quantization parameters.\u001b[39;00m\n\u001b[0;32m   1525\u001b[0m \u001b[39m  \"\"\"\u001b[39;00m\n\u001b[1;32m-> 1526\u001b[0m   saved_model_convert_result \u001b[39m=\u001b[39m \u001b[39mself\u001b[39m\u001b[39m.\u001b[39m_convert_as_saved_model()\n\u001b[0;32m   1527\u001b[0m   \u001b[39mif\u001b[39;00m saved_model_convert_result:\n\u001b[0;32m   1528\u001b[0m     \u001b[39mreturn\u001b[39;00m saved_model_convert_result\n",
      "File \u001b[1;32mc:\\Users\\HP\\anaconda3\\Lib\\site-packages\\tensorflow\\lite\\python\\lite.py:1507\u001b[0m, in \u001b[0;36mTFLiteKerasModelConverterV2._convert_as_saved_model\u001b[1;34m(self)\u001b[0m\n\u001b[0;32m   1503\u001b[0m   graph_def, input_tensors, output_tensors \u001b[39m=\u001b[39m (\n\u001b[0;32m   1504\u001b[0m       \u001b[39mself\u001b[39m\u001b[39m.\u001b[39m_convert_keras_to_saved_model(temp_dir)\n\u001b[0;32m   1505\u001b[0m   )\n\u001b[0;32m   1506\u001b[0m   \u001b[39mif\u001b[39;00m \u001b[39mself\u001b[39m\u001b[39m.\u001b[39msaved_model_dir:\n\u001b[1;32m-> 1507\u001b[0m     \u001b[39mreturn\u001b[39;00m \u001b[39msuper\u001b[39m(TFLiteKerasModelConverterV2, \u001b[39mself\u001b[39m)\u001b[39m.\u001b[39mconvert(\n\u001b[0;32m   1508\u001b[0m         graph_def, input_tensors, output_tensors\n\u001b[0;32m   1509\u001b[0m     )\n\u001b[0;32m   1510\u001b[0m \u001b[39mfinally\u001b[39;00m:\n\u001b[0;32m   1511\u001b[0m   shutil\u001b[39m.\u001b[39mrmtree(temp_dir, \u001b[39mTrue\u001b[39;00m)\n",
      "File \u001b[1;32mc:\\Users\\HP\\anaconda3\\Lib\\site-packages\\tensorflow\\lite\\python\\lite.py:1296\u001b[0m, in \u001b[0;36mTFLiteConverterBaseV2.convert\u001b[1;34m(self, graph_def, input_tensors, output_tensors)\u001b[0m\n\u001b[0;32m   1289\u001b[0m   logging\u001b[39m.\u001b[39minfo(\n\u001b[0;32m   1290\u001b[0m       \u001b[39m\"\u001b[39m\u001b[39mUsing new converter: If you encounter a problem \u001b[39m\u001b[39m\"\u001b[39m\n\u001b[0;32m   1291\u001b[0m       \u001b[39m\"\u001b[39m\u001b[39mplease file a bug. You can opt-out \u001b[39m\u001b[39m\"\u001b[39m\n\u001b[0;32m   1292\u001b[0m       \u001b[39m\"\u001b[39m\u001b[39mby setting experimental_new_converter=False\u001b[39m\u001b[39m\"\u001b[39m\n\u001b[0;32m   1293\u001b[0m   )\n\u001b[0;32m   1295\u001b[0m \u001b[39m# Converts model.\u001b[39;00m\n\u001b[1;32m-> 1296\u001b[0m result \u001b[39m=\u001b[39m _convert_graphdef(\n\u001b[0;32m   1297\u001b[0m     input_data\u001b[39m=\u001b[39mgraph_def,\n\u001b[0;32m   1298\u001b[0m     input_tensors\u001b[39m=\u001b[39minput_tensors,\n\u001b[0;32m   1299\u001b[0m     output_tensors\u001b[39m=\u001b[39moutput_tensors,\n\u001b[0;32m   1300\u001b[0m     \u001b[39m*\u001b[39m\u001b[39m*\u001b[39mconverter_kwargs,\n\u001b[0;32m   1301\u001b[0m )\n\u001b[0;32m   1303\u001b[0m \u001b[39mreturn\u001b[39;00m \u001b[39mself\u001b[39m\u001b[39m.\u001b[39m_optimize_tflite_model(\n\u001b[0;32m   1304\u001b[0m     result, \u001b[39mself\u001b[39m\u001b[39m.\u001b[39m_quant_mode, quant_io\u001b[39m=\u001b[39m\u001b[39mself\u001b[39m\u001b[39m.\u001b[39mexperimental_new_quantizer\n\u001b[0;32m   1305\u001b[0m )\n",
      "File \u001b[1;32mc:\\Users\\HP\\anaconda3\\Lib\\site-packages\\tensorflow\\lite\\python\\convert_phase.py:212\u001b[0m, in \u001b[0;36mconvert_phase.<locals>.actual_decorator.<locals>.wrapper\u001b[1;34m(*args, **kwargs)\u001b[0m\n\u001b[0;32m    210\u001b[0m   \u001b[39melse\u001b[39;00m:\n\u001b[0;32m    211\u001b[0m     report_error_message(\u001b[39mstr\u001b[39m(converter_error))\n\u001b[1;32m--> 212\u001b[0m   \u001b[39mraise\u001b[39;00m converter_error \u001b[39mfrom\u001b[39;00m \u001b[39mNone\u001b[39;00m  \u001b[39m# Re-throws the exception.\u001b[39;00m\n\u001b[0;32m    213\u001b[0m \u001b[39mexcept\u001b[39;00m \u001b[39mException\u001b[39;00m \u001b[39mas\u001b[39;00m error:\n\u001b[0;32m    214\u001b[0m   report_error_message(\u001b[39mstr\u001b[39m(error))\n",
      "File \u001b[1;32mc:\\Users\\HP\\anaconda3\\Lib\\site-packages\\tensorflow\\lite\\python\\convert_phase.py:205\u001b[0m, in \u001b[0;36mconvert_phase.<locals>.actual_decorator.<locals>.wrapper\u001b[1;34m(*args, **kwargs)\u001b[0m\n\u001b[0;32m    202\u001b[0m \u001b[39m@functools\u001b[39m\u001b[39m.\u001b[39mwraps(func)\n\u001b[0;32m    203\u001b[0m \u001b[39mdef\u001b[39;00m \u001b[39mwrapper\u001b[39m(\u001b[39m*\u001b[39margs, \u001b[39m*\u001b[39m\u001b[39m*\u001b[39mkwargs):\n\u001b[0;32m    204\u001b[0m   \u001b[39mtry\u001b[39;00m:\n\u001b[1;32m--> 205\u001b[0m     \u001b[39mreturn\u001b[39;00m func(\u001b[39m*\u001b[39margs, \u001b[39m*\u001b[39m\u001b[39m*\u001b[39mkwargs)\n\u001b[0;32m    206\u001b[0m   \u001b[39mexcept\u001b[39;00m ConverterError \u001b[39mas\u001b[39;00m converter_error:\n\u001b[0;32m    207\u001b[0m     \u001b[39mif\u001b[39;00m converter_error\u001b[39m.\u001b[39merrors:\n",
      "File \u001b[1;32mc:\\Users\\HP\\anaconda3\\Lib\\site-packages\\tensorflow\\lite\\python\\convert.py:918\u001b[0m, in \u001b[0;36mconvert_graphdef\u001b[1;34m(input_data, input_tensors, output_tensors, **kwargs)\u001b[0m\n\u001b[0;32m    915\u001b[0m   \u001b[39melse\u001b[39;00m:\n\u001b[0;32m    916\u001b[0m     model_flags\u001b[39m.\u001b[39moutput_arrays\u001b[39m.\u001b[39mappend(util\u001b[39m.\u001b[39mget_tensor_name(output_tensor))\n\u001b[1;32m--> 918\u001b[0m data \u001b[39m=\u001b[39m convert(\n\u001b[0;32m    919\u001b[0m     model_flags,\n\u001b[0;32m    920\u001b[0m     conversion_flags,\n\u001b[0;32m    921\u001b[0m     input_data\u001b[39m.\u001b[39mSerializeToString(),\n\u001b[0;32m    922\u001b[0m     debug_info_str\u001b[39m=\u001b[39mdebug_info\u001b[39m.\u001b[39mSerializeToString() \u001b[39mif\u001b[39;00m debug_info \u001b[39melse\u001b[39;00m \u001b[39mNone\u001b[39;00m,\n\u001b[0;32m    923\u001b[0m     enable_mlir_converter\u001b[39m=\u001b[39menable_mlir_converter,\n\u001b[0;32m    924\u001b[0m )\n\u001b[0;32m    925\u001b[0m \u001b[39mreturn\u001b[39;00m data\n",
      "File \u001b[1;32mc:\\Users\\HP\\anaconda3\\Lib\\site-packages\\tensorflow\\lite\\python\\convert.py:367\u001b[0m, in \u001b[0;36mconvert\u001b[1;34m(model_flags, conversion_flags, input_data_str, debug_info_str, enable_mlir_converter)\u001b[0m\n\u001b[0;32m    359\u001b[0m         conversion_flags\u001b[39m.\u001b[39mguarantee_all_funcs_one_use \u001b[39m=\u001b[39m \u001b[39mTrue\u001b[39;00m\n\u001b[0;32m    360\u001b[0m         \u001b[39mreturn\u001b[39;00m convert(\n\u001b[0;32m    361\u001b[0m             model_flags,\n\u001b[0;32m    362\u001b[0m             conversion_flags,\n\u001b[1;32m   (...)\u001b[0m\n\u001b[0;32m    365\u001b[0m             enable_mlir_converter,\n\u001b[0;32m    366\u001b[0m         )\n\u001b[1;32m--> 367\u001b[0m     \u001b[39mraise\u001b[39;00m converter_error\n\u001b[0;32m    369\u001b[0m \u001b[39mreturn\u001b[39;00m _run_deprecated_conversion_binary(\n\u001b[0;32m    370\u001b[0m     model_flags\u001b[39m.\u001b[39mSerializeToString(),\n\u001b[0;32m    371\u001b[0m     conversion_flags\u001b[39m.\u001b[39mSerializeToString(),\n\u001b[0;32m    372\u001b[0m     input_data_str,\n\u001b[0;32m    373\u001b[0m     debug_info_str,\n\u001b[0;32m    374\u001b[0m )\n",
      "\u001b[1;31mConverterError\u001b[0m: c:\\Users\\HP\\anaconda3\\Lib\\site-packages\\tensorflow\\python\\saved_model\\save.py:1313:0: error: 'tf.TensorListReserve' op requires element_shape to be static during TF Lite transformation pass\n<unknown>:0: note: loc(fused[\"StatefulPartitionedCall:\", \"StatefulPartitionedCall\"]): called from\nc:\\Users\\HP\\anaconda3\\Lib\\site-packages\\tensorflow\\python\\saved_model\\save.py:1313:0: error: failed to legalize operation 'tf.TensorListReserve' that was explicitly marked illegal\n<unknown>:0: note: loc(fused[\"StatefulPartitionedCall:\", \"StatefulPartitionedCall\"]): called from\n<unknown>:0: error: Lowering tensor list ops is failed. Please consider using Select TF ops and disabling `_experimental_lower_tensor_list_ops` flag in the TFLite converter object. For example, converter.target_spec.supported_ops = [tf.lite.OpsSet.TFLITE_BUILTINS, tf.lite.OpsSet.SELECT_TF_OPS]\\n converter._experimental_lower_tensor_list_ops = False\n"
     ]
    }
   ],
   "source": [
    "from keras.models import load_model\n",
    "model = load_model(\"model.h5\")\n",
    "\n",
    "TF_LITE_MODEL_FILE_NAME = \"tflite_model.tflite\"\n",
    "tf_lite_converter = tf.lite.TFLiteConverter.from_keras_model(model)\n",
    "tflite_model = tf_lite_converter.convert()\n",
    "tflite_model_name = TF_LITE_MODEL_FILE_NAME\n",
    "open(tflite_model_name, \"wb\").write(tflite_model)\n",
    "convert_bytes(get_file_size(TF_LITE_MODEL_FILE_NAME), \"KB\")\n",
    "\n",
    "# Convert the model.\n",
    "converter = tf.lite.TFLiteConverter.from_keras_model(model)\n",
    "tflite_model = converter.convert()\n",
    "# or using another method\n",
    "\n",
    "# Save the model.\n",
    "with open('tflite_model_another.tflite', 'wb') as f:\n",
    "  f.write(tflite_model)"
   ]
  }
 ],
 "metadata": {
  "kernelspec": {
   "display_name": "base",
   "language": "python",
   "name": "python3"
  },
  "language_info": {
   "codemirror_mode": {
    "name": "ipython",
    "version": 3
   },
   "file_extension": ".py",
   "mimetype": "text/x-python",
   "name": "python",
   "nbconvert_exporter": "python",
   "pygments_lexer": "ipython3",
   "version": "3.11.4"
  }
 },
 "nbformat": 4,
 "nbformat_minor": 2
}
