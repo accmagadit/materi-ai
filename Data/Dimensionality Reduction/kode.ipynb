{
 "cells": [
  {
   "cell_type": "markdown",
   "metadata": {},
   "source": [
    "## Reduksi Dimensi menggunakan PCA"
   ]
  },
  {
   "cell_type": "code",
   "execution_count": 10,
   "metadata": {},
   "outputs": [
    {
     "data": {
      "text/plain": [
       "<bound method NDFrame.head of     feature_1  feature_2  feature_3  feature_4  feature_5  feature_6  \\\n",
       "0    0.163931   0.201022   0.081551   0.418627   0.248022   0.843778   \n",
       "1    0.370353   0.810285   0.529029   0.838828   0.022222   0.376073   \n",
       "2    0.545442   0.136919   0.219081   0.784717   0.478047   0.056735   \n",
       "3    0.916739   0.801509   0.994532   0.530914   0.025221   0.696847   \n",
       "4    0.128660   0.342453   0.059096   0.441849   0.414202   0.647088   \n",
       "..        ...        ...        ...        ...        ...        ...   \n",
       "95   0.454429   0.008974   0.964710   0.490982   0.008472   0.923095   \n",
       "96   0.599349   0.082412   0.250653   0.244278   0.318495   0.155829   \n",
       "97   0.912271   0.851213   0.412437   0.664220   0.152200   0.102427   \n",
       "98   0.737823   0.509556   0.911640   0.522154   0.200367   0.636998   \n",
       "99   0.208361   0.268480   0.497655   0.861521   0.358616   0.044289   \n",
       "\n",
       "    feature_7  feature_8  feature_9  feature_10 label  \n",
       "0    0.642979   0.229401   0.538077    0.058682     B  \n",
       "1    0.504291   0.762727   0.815287    0.592844     B  \n",
       "2    0.009254   0.174426   0.009795    0.336983     C  \n",
       "3    0.657214   0.126963   0.022011    0.732925     B  \n",
       "4    0.416394   0.216532   0.582573    0.348095     C  \n",
       "..        ...        ...        ...         ...   ...  \n",
       "95   0.577599   0.845680   0.789223    0.841041     B  \n",
       "96   0.192786   0.231609   0.685012    0.430267     B  \n",
       "97   0.042639   0.909912   0.157449    0.534401     C  \n",
       "98   0.251995   0.917796   0.608928    0.951674     A  \n",
       "99   0.634415   0.834391   0.611296    0.583188     C  \n",
       "\n",
       "[100 rows x 11 columns]>"
      ]
     },
     "execution_count": 10,
     "metadata": {},
     "output_type": "execute_result"
    }
   ],
   "source": [
    "import pandas as pd\n",
    "import numpy as np\n",
    "import random\n",
    "import matplotlib.pyplot as plt\n",
    "\n",
    "data = {'feature_1': [random.uniform(0, 1) for i in range(100)],\n",
    "        'feature_2': [random.uniform(0, 1) for i in range(100)],\n",
    "        'feature_3': [random.uniform(0, 1) for i in range(100)],\n",
    "        'feature_4': [random.uniform(0, 1) for i in range(100)],\n",
    "        'feature_5': [random.uniform(0, 1) for i in range(100)],\n",
    "        'feature_6': [random.uniform(0, 1) for i in range(100)],\n",
    "        'feature_7': [random.uniform(0, 1) for i in range(100)],\n",
    "        'feature_8': [random.uniform(0, 1) for i in range(100)],\n",
    "        'feature_9': [random.uniform(0, 1) for i in range(100)],\n",
    "        'feature_10': [random.uniform(0, 1) for i in range(100)],  \n",
    "        'label': [random.choice(['A', 'B', 'C']) for i in range(100)]}\n",
    "\n",
    "df = pd.DataFrame(data)\n",
    "df.head"
   ]
  },
  {
   "cell_type": "code",
   "execution_count": 11,
   "metadata": {},
   "outputs": [
    {
     "data": {
      "text/html": [
       "<div>\n",
       "<style scoped>\n",
       "    .dataframe tbody tr th:only-of-type {\n",
       "        vertical-align: middle;\n",
       "    }\n",
       "\n",
       "    .dataframe tbody tr th {\n",
       "        vertical-align: top;\n",
       "    }\n",
       "\n",
       "    .dataframe thead th {\n",
       "        text-align: right;\n",
       "    }\n",
       "</style>\n",
       "<table border=\"1\" class=\"dataframe\">\n",
       "  <thead>\n",
       "    <tr style=\"text-align: right;\">\n",
       "      <th></th>\n",
       "      <th>feature_1</th>\n",
       "      <th>feature_2</th>\n",
       "      <th>feature_3</th>\n",
       "      <th>feature_4</th>\n",
       "      <th>feature_5</th>\n",
       "      <th>feature_6</th>\n",
       "      <th>feature_7</th>\n",
       "      <th>feature_8</th>\n",
       "      <th>feature_9</th>\n",
       "      <th>feature_10</th>\n",
       "    </tr>\n",
       "  </thead>\n",
       "  <tbody>\n",
       "    <tr>\n",
       "      <th>0</th>\n",
       "      <td>0.163931</td>\n",
       "      <td>0.201022</td>\n",
       "      <td>0.081551</td>\n",
       "      <td>0.418627</td>\n",
       "      <td>0.248022</td>\n",
       "      <td>0.843778</td>\n",
       "      <td>0.642979</td>\n",
       "      <td>0.229401</td>\n",
       "      <td>0.538077</td>\n",
       "      <td>0.058682</td>\n",
       "    </tr>\n",
       "    <tr>\n",
       "      <th>1</th>\n",
       "      <td>0.370353</td>\n",
       "      <td>0.810285</td>\n",
       "      <td>0.529029</td>\n",
       "      <td>0.838828</td>\n",
       "      <td>0.022222</td>\n",
       "      <td>0.376073</td>\n",
       "      <td>0.504291</td>\n",
       "      <td>0.762727</td>\n",
       "      <td>0.815287</td>\n",
       "      <td>0.592844</td>\n",
       "    </tr>\n",
       "    <tr>\n",
       "      <th>2</th>\n",
       "      <td>0.545442</td>\n",
       "      <td>0.136919</td>\n",
       "      <td>0.219081</td>\n",
       "      <td>0.784717</td>\n",
       "      <td>0.478047</td>\n",
       "      <td>0.056735</td>\n",
       "      <td>0.009254</td>\n",
       "      <td>0.174426</td>\n",
       "      <td>0.009795</td>\n",
       "      <td>0.336983</td>\n",
       "    </tr>\n",
       "    <tr>\n",
       "      <th>3</th>\n",
       "      <td>0.916739</td>\n",
       "      <td>0.801509</td>\n",
       "      <td>0.994532</td>\n",
       "      <td>0.530914</td>\n",
       "      <td>0.025221</td>\n",
       "      <td>0.696847</td>\n",
       "      <td>0.657214</td>\n",
       "      <td>0.126963</td>\n",
       "      <td>0.022011</td>\n",
       "      <td>0.732925</td>\n",
       "    </tr>\n",
       "    <tr>\n",
       "      <th>4</th>\n",
       "      <td>0.128660</td>\n",
       "      <td>0.342453</td>\n",
       "      <td>0.059096</td>\n",
       "      <td>0.441849</td>\n",
       "      <td>0.414202</td>\n",
       "      <td>0.647088</td>\n",
       "      <td>0.416394</td>\n",
       "      <td>0.216532</td>\n",
       "      <td>0.582573</td>\n",
       "      <td>0.348095</td>\n",
       "    </tr>\n",
       "    <tr>\n",
       "      <th>...</th>\n",
       "      <td>...</td>\n",
       "      <td>...</td>\n",
       "      <td>...</td>\n",
       "      <td>...</td>\n",
       "      <td>...</td>\n",
       "      <td>...</td>\n",
       "      <td>...</td>\n",
       "      <td>...</td>\n",
       "      <td>...</td>\n",
       "      <td>...</td>\n",
       "    </tr>\n",
       "    <tr>\n",
       "      <th>95</th>\n",
       "      <td>0.454429</td>\n",
       "      <td>0.008974</td>\n",
       "      <td>0.964710</td>\n",
       "      <td>0.490982</td>\n",
       "      <td>0.008472</td>\n",
       "      <td>0.923095</td>\n",
       "      <td>0.577599</td>\n",
       "      <td>0.845680</td>\n",
       "      <td>0.789223</td>\n",
       "      <td>0.841041</td>\n",
       "    </tr>\n",
       "    <tr>\n",
       "      <th>96</th>\n",
       "      <td>0.599349</td>\n",
       "      <td>0.082412</td>\n",
       "      <td>0.250653</td>\n",
       "      <td>0.244278</td>\n",
       "      <td>0.318495</td>\n",
       "      <td>0.155829</td>\n",
       "      <td>0.192786</td>\n",
       "      <td>0.231609</td>\n",
       "      <td>0.685012</td>\n",
       "      <td>0.430267</td>\n",
       "    </tr>\n",
       "    <tr>\n",
       "      <th>97</th>\n",
       "      <td>0.912271</td>\n",
       "      <td>0.851213</td>\n",
       "      <td>0.412437</td>\n",
       "      <td>0.664220</td>\n",
       "      <td>0.152200</td>\n",
       "      <td>0.102427</td>\n",
       "      <td>0.042639</td>\n",
       "      <td>0.909912</td>\n",
       "      <td>0.157449</td>\n",
       "      <td>0.534401</td>\n",
       "    </tr>\n",
       "    <tr>\n",
       "      <th>98</th>\n",
       "      <td>0.737823</td>\n",
       "      <td>0.509556</td>\n",
       "      <td>0.911640</td>\n",
       "      <td>0.522154</td>\n",
       "      <td>0.200367</td>\n",
       "      <td>0.636998</td>\n",
       "      <td>0.251995</td>\n",
       "      <td>0.917796</td>\n",
       "      <td>0.608928</td>\n",
       "      <td>0.951674</td>\n",
       "    </tr>\n",
       "    <tr>\n",
       "      <th>99</th>\n",
       "      <td>0.208361</td>\n",
       "      <td>0.268480</td>\n",
       "      <td>0.497655</td>\n",
       "      <td>0.861521</td>\n",
       "      <td>0.358616</td>\n",
       "      <td>0.044289</td>\n",
       "      <td>0.634415</td>\n",
       "      <td>0.834391</td>\n",
       "      <td>0.611296</td>\n",
       "      <td>0.583188</td>\n",
       "    </tr>\n",
       "  </tbody>\n",
       "</table>\n",
       "<p>100 rows × 10 columns</p>\n",
       "</div>"
      ],
      "text/plain": [
       "    feature_1  feature_2  feature_3  feature_4  feature_5  feature_6  \\\n",
       "0    0.163931   0.201022   0.081551   0.418627   0.248022   0.843778   \n",
       "1    0.370353   0.810285   0.529029   0.838828   0.022222   0.376073   \n",
       "2    0.545442   0.136919   0.219081   0.784717   0.478047   0.056735   \n",
       "3    0.916739   0.801509   0.994532   0.530914   0.025221   0.696847   \n",
       "4    0.128660   0.342453   0.059096   0.441849   0.414202   0.647088   \n",
       "..        ...        ...        ...        ...        ...        ...   \n",
       "95   0.454429   0.008974   0.964710   0.490982   0.008472   0.923095   \n",
       "96   0.599349   0.082412   0.250653   0.244278   0.318495   0.155829   \n",
       "97   0.912271   0.851213   0.412437   0.664220   0.152200   0.102427   \n",
       "98   0.737823   0.509556   0.911640   0.522154   0.200367   0.636998   \n",
       "99   0.208361   0.268480   0.497655   0.861521   0.358616   0.044289   \n",
       "\n",
       "    feature_7  feature_8  feature_9  feature_10  \n",
       "0    0.642979   0.229401   0.538077    0.058682  \n",
       "1    0.504291   0.762727   0.815287    0.592844  \n",
       "2    0.009254   0.174426   0.009795    0.336983  \n",
       "3    0.657214   0.126963   0.022011    0.732925  \n",
       "4    0.416394   0.216532   0.582573    0.348095  \n",
       "..        ...        ...        ...         ...  \n",
       "95   0.577599   0.845680   0.789223    0.841041  \n",
       "96   0.192786   0.231609   0.685012    0.430267  \n",
       "97   0.042639   0.909912   0.157449    0.534401  \n",
       "98   0.251995   0.917796   0.608928    0.951674  \n",
       "99   0.634415   0.834391   0.611296    0.583188  \n",
       "\n",
       "[100 rows x 10 columns]"
      ]
     },
     "execution_count": 11,
     "metadata": {},
     "output_type": "execute_result"
    }
   ],
   "source": [
    "x = df.iloc[:,:-1]\n",
    "y = df.iloc[:,-1]\n",
    "\n",
    "x"
   ]
  },
  {
   "cell_type": "markdown",
   "metadata": {},
   "source": [
    "Reduksi dimensi menggunakan PCA"
   ]
  },
  {
   "cell_type": "code",
   "execution_count": 12,
   "metadata": {},
   "outputs": [],
   "source": [
    "from sklearn.decomposition import PCA"
   ]
  },
  {
   "cell_type": "code",
   "execution_count": 13,
   "metadata": {},
   "outputs": [],
   "source": [
    "pca = PCA(n_components=2)"
   ]
  },
  {
   "cell_type": "markdown",
   "metadata": {},
   "source": [
    "setelah membuat class, kita lakukan fit transform pada data fitur, jadi nantinya 10 kolom g=fitur di atas akan di proses menggunakan teknik PCA sehingga akan mengelarkan 2 kolom baru hasil reduksi"
   ]
  },
  {
   "cell_type": "code",
   "execution_count": 14,
   "metadata": {},
   "outputs": [],
   "source": [
    "fit_pca = pca.fit_transform(x)"
   ]
  },
  {
   "cell_type": "markdown",
   "metadata": {},
   "source": [
    "buat data frame baru dari hasil fit"
   ]
  },
  {
   "cell_type": "code",
   "execution_count": 15,
   "metadata": {},
   "outputs": [
    {
     "data": {
      "text/html": [
       "<div>\n",
       "<style scoped>\n",
       "    .dataframe tbody tr th:only-of-type {\n",
       "        vertical-align: middle;\n",
       "    }\n",
       "\n",
       "    .dataframe tbody tr th {\n",
       "        vertical-align: top;\n",
       "    }\n",
       "\n",
       "    .dataframe thead th {\n",
       "        text-align: right;\n",
       "    }\n",
       "</style>\n",
       "<table border=\"1\" class=\"dataframe\">\n",
       "  <thead>\n",
       "    <tr style=\"text-align: right;\">\n",
       "      <th></th>\n",
       "      <th>PCA_1</th>\n",
       "      <th>PCA_2</th>\n",
       "      <th>label</th>\n",
       "    </tr>\n",
       "  </thead>\n",
       "  <tbody>\n",
       "    <tr>\n",
       "      <th>0</th>\n",
       "      <td>-0.167654</td>\n",
       "      <td>0.552522</td>\n",
       "      <td>B</td>\n",
       "    </tr>\n",
       "    <tr>\n",
       "      <th>1</th>\n",
       "      <td>-0.567847</td>\n",
       "      <td>0.242670</td>\n",
       "      <td>B</td>\n",
       "    </tr>\n",
       "    <tr>\n",
       "      <th>2</th>\n",
       "      <td>0.014403</td>\n",
       "      <td>-0.274437</td>\n",
       "      <td>C</td>\n",
       "    </tr>\n",
       "    <tr>\n",
       "      <th>3</th>\n",
       "      <td>-0.177907</td>\n",
       "      <td>-0.531175</td>\n",
       "      <td>B</td>\n",
       "    </tr>\n",
       "    <tr>\n",
       "      <th>4</th>\n",
       "      <td>-0.082124</td>\n",
       "      <td>0.364830</td>\n",
       "      <td>C</td>\n",
       "    </tr>\n",
       "    <tr>\n",
       "      <th>...</th>\n",
       "      <td>...</td>\n",
       "      <td>...</td>\n",
       "      <td>...</td>\n",
       "    </tr>\n",
       "    <tr>\n",
       "      <th>95</th>\n",
       "      <td>-0.733285</td>\n",
       "      <td>-0.010830</td>\n",
       "      <td>B</td>\n",
       "    </tr>\n",
       "    <tr>\n",
       "      <th>96</th>\n",
       "      <td>-0.002407</td>\n",
       "      <td>0.087132</td>\n",
       "      <td>B</td>\n",
       "    </tr>\n",
       "    <tr>\n",
       "      <th>97</th>\n",
       "      <td>-0.325410</td>\n",
       "      <td>-0.023490</td>\n",
       "      <td>C</td>\n",
       "    </tr>\n",
       "    <tr>\n",
       "      <th>98</th>\n",
       "      <td>-0.544897</td>\n",
       "      <td>-0.206903</td>\n",
       "      <td>A</td>\n",
       "    </tr>\n",
       "    <tr>\n",
       "      <th>99</th>\n",
       "      <td>-0.230930</td>\n",
       "      <td>0.187739</td>\n",
       "      <td>C</td>\n",
       "    </tr>\n",
       "  </tbody>\n",
       "</table>\n",
       "<p>100 rows × 3 columns</p>\n",
       "</div>"
      ],
      "text/plain": [
       "       PCA_1     PCA_2 label\n",
       "0  -0.167654  0.552522     B\n",
       "1  -0.567847  0.242670     B\n",
       "2   0.014403 -0.274437     C\n",
       "3  -0.177907 -0.531175     B\n",
       "4  -0.082124  0.364830     C\n",
       "..       ...       ...   ...\n",
       "95 -0.733285 -0.010830     B\n",
       "96 -0.002407  0.087132     B\n",
       "97 -0.325410 -0.023490     C\n",
       "98 -0.544897 -0.206903     A\n",
       "99 -0.230930  0.187739     C\n",
       "\n",
       "[100 rows x 3 columns]"
      ]
     },
     "execution_count": 15,
     "metadata": {},
     "output_type": "execute_result"
    }
   ],
   "source": [
    "pca_df = pd.DataFrame(data=fit_pca, columns=['PCA_1','PCA_2'])\n",
    "pca_df\n",
    "\n",
    "finalDF = pd.concat([pca_df,df[['label']]],axis=1)\n",
    "finalDF"
   ]
  },
  {
   "cell_type": "markdown",
   "metadata": {},
   "source": [
    "buat scatter plot nya"
   ]
  },
  {
   "cell_type": "code",
   "execution_count": 19,
   "metadata": {},
   "outputs": [
    {
     "data": {
      "image/png": "[encoded data removed]",
      "text/plain": [
       "<Figure size 800x800 with 1 Axes>"
      ]
     },
     "metadata": {},
     "output_type": "display_data"
    }
   ],
   "source": [
    "fig = plt.figure(figsize=(8,8))\n",
    "ax = fig.add_subplot(1,1,1)\n",
    "ax.set_xlabel('Principal Component 1', fontsize=15)\n",
    "ax.set_ylabel('Principal Component 1', fontsize=15)\n",
    "ax.set_title('2 Componenty PCA', fontsize=20)\n",
    "\n",
    "targets = ['A','B','C']\n",
    "colors = ['r','g','b']\n",
    "for target, color in zip(targets,colors):\n",
    "    indicesToKepp = finalDF['label']==target\n",
    "    ax.scatter(finalDF.loc[indicesToKepp,'PCA_1'],\n",
    "               finalDF.loc[indicesToKepp,'PCA_2'],\n",
    "               c=color,\n",
    "               s=50\n",
    "               )\n",
    "ax.legend(targets)\n",
    "ax.grid()"
   ]
  },
  {
   "cell_type": "markdown",
   "metadata": {},
   "source": [
    "## Reduksi Dimensi menggunakan LDA"
   ]
  },
  {
   "cell_type": "code",
   "execution_count": 20,
   "metadata": {},
   "outputs": [],
   "source": [
    "from sklearn.model_selection import train_test_split\n",
    "from sklearn.model_selection import RepeatedStratifiedKFold\n",
    "from sklearn.model_selection import cross_val_score\n",
    "from sklearn.discriminant_analysis import LinearDiscriminantAnalysis\n",
    "from sklearn import datasets\n",
    "import matplotlib.pyplot as plt\n",
    "import pandas as pd\n",
    "import numpy as np"
   ]
  },
  {
   "cell_type": "code",
   "execution_count": 21,
   "metadata": {},
   "outputs": [
    {
     "data": {
      "text/html": [
       "<div>\n",
       "<style scoped>\n",
       "    .dataframe tbody tr th:only-of-type {\n",
       "        vertical-align: middle;\n",
       "    }\n",
       "\n",
       "    .dataframe tbody tr th {\n",
       "        vertical-align: top;\n",
       "    }\n",
       "\n",
       "    .dataframe thead th {\n",
       "        text-align: right;\n",
       "    }\n",
       "</style>\n",
       "<table border=\"1\" class=\"dataframe\">\n",
       "  <thead>\n",
       "    <tr style=\"text-align: right;\">\n",
       "      <th></th>\n",
       "      <th>s_length</th>\n",
       "      <th>s_width</th>\n",
       "      <th>p_length</th>\n",
       "      <th>p_width</th>\n",
       "      <th>target</th>\n",
       "      <th>species</th>\n",
       "    </tr>\n",
       "  </thead>\n",
       "  <tbody>\n",
       "    <tr>\n",
       "      <th>0</th>\n",
       "      <td>5.1</td>\n",
       "      <td>3.5</td>\n",
       "      <td>1.4</td>\n",
       "      <td>0.2</td>\n",
       "      <td>0.0</td>\n",
       "      <td>setosa</td>\n",
       "    </tr>\n",
       "    <tr>\n",
       "      <th>1</th>\n",
       "      <td>4.9</td>\n",
       "      <td>3.0</td>\n",
       "      <td>1.4</td>\n",
       "      <td>0.2</td>\n",
       "      <td>0.0</td>\n",
       "      <td>setosa</td>\n",
       "    </tr>\n",
       "    <tr>\n",
       "      <th>2</th>\n",
       "      <td>4.7</td>\n",
       "      <td>3.2</td>\n",
       "      <td>1.3</td>\n",
       "      <td>0.2</td>\n",
       "      <td>0.0</td>\n",
       "      <td>setosa</td>\n",
       "    </tr>\n",
       "    <tr>\n",
       "      <th>3</th>\n",
       "      <td>4.6</td>\n",
       "      <td>3.1</td>\n",
       "      <td>1.5</td>\n",
       "      <td>0.2</td>\n",
       "      <td>0.0</td>\n",
       "      <td>setosa</td>\n",
       "    </tr>\n",
       "    <tr>\n",
       "      <th>4</th>\n",
       "      <td>5.0</td>\n",
       "      <td>3.6</td>\n",
       "      <td>1.4</td>\n",
       "      <td>0.2</td>\n",
       "      <td>0.0</td>\n",
       "      <td>setosa</td>\n",
       "    </tr>\n",
       "  </tbody>\n",
       "</table>\n",
       "</div>"
      ],
      "text/plain": [
       "   s_length  s_width  p_length  p_width  target species\n",
       "0       5.1      3.5       1.4      0.2     0.0  setosa\n",
       "1       4.9      3.0       1.4      0.2     0.0  setosa\n",
       "2       4.7      3.2       1.3      0.2     0.0  setosa\n",
       "3       4.6      3.1       1.5      0.2     0.0  setosa\n",
       "4       5.0      3.6       1.4      0.2     0.0  setosa"
      ]
     },
     "execution_count": 21,
     "metadata": {},
     "output_type": "execute_result"
    }
   ],
   "source": [
    "iris = datasets.load_iris()\n",
    "\n",
    "#convert dataset to pandas DataFrame\n",
    "df = pd.DataFrame(data = np.c_[iris['data'], iris['target']],\n",
    "                  columns = iris['feature_names'] + ['target'])\n",
    "df['species'] = pd.Categorical.from_codes(iris.target, iris.target_names)\n",
    "df.columns = ['s_length', 's_width', 'p_length', 'p_width', 'target', 'species']\n",
    "\n",
    "#view first six rows of DataFrame\n",
    "df.head()"
   ]
  },
  {
   "cell_type": "code",
   "execution_count": 23,
   "metadata": {},
   "outputs": [
    {
     "data": {
      "text/html": [
       "<style>#sk-container-id-1 {color: black;background-color: white;}#sk-container-id-1 pre{padding: 0;}#sk-container-id-1 div.sk-toggleable {background-color: white;}#sk-container-id-1 label.sk-toggleable__label {cursor: pointer;display: block;width: 100%;margin-bottom: 0;padding: 0.3em;box-sizing: border-box;text-align: center;}#sk-container-id-1 label.sk-toggleable__label-arrow:before {content: \"▸\";float: left;margin-right: 0.25em;color: #696969;}#sk-container-id-1 label.sk-toggleable__label-arrow:hover:before {color: black;}#sk-container-id-1 div.sk-estimator:hover label.sk-toggleable__label-arrow:before {color: black;}#sk-container-id-1 div.sk-toggleable__content {max-height: 0;max-width: 0;overflow: hidden;text-align: left;background-color: #f0f8ff;}#sk-container-id-1 div.sk-toggleable__content pre {margin: 0.2em;color: black;border-radius: 0.25em;background-color: #f0f8ff;}#sk-container-id-1 input.sk-toggleable__control:checked~div.sk-toggleable__content {max-height: 200px;max-width: 100%;overflow: auto;}#sk-container-id-1 input.sk-toggleable__control:checked~label.sk-toggleable__label-arrow:before {content: \"▾\";}#sk-container-id-1 div.sk-estimator input.sk-toggleable__control:checked~label.sk-toggleable__label {background-color: #d4ebff;}#sk-container-id-1 div.sk-label input.sk-toggleable__control:checked~label.sk-toggleable__label {background-color: #d4ebff;}#sk-container-id-1 input.sk-hidden--visually {border: 0;clip: rect(1px 1px 1px 1px);clip: rect(1px, 1px, 1px, 1px);height: 1px;margin: -1px;overflow: hidden;padding: 0;position: absolute;width: 1px;}#sk-container-id-1 div.sk-estimator {font-family: monospace;background-color: #f0f8ff;border: 1px dotted black;border-radius: 0.25em;box-sizing: border-box;margin-bottom: 0.5em;}#sk-container-id-1 div.sk-estimator:hover {background-color: #d4ebff;}#sk-container-id-1 div.sk-parallel-item::after {content: \"\";width: 100%;border-bottom: 1px solid gray;flex-grow: 1;}#sk-container-id-1 div.sk-label:hover label.sk-toggleable__label {background-color: #d4ebff;}#sk-container-id-1 div.sk-serial::before {content: \"\";position: absolute;border-left: 1px solid gray;box-sizing: border-box;top: 0;bottom: 0;left: 50%;z-index: 0;}#sk-container-id-1 div.sk-serial {display: flex;flex-direction: column;align-items: center;background-color: white;padding-right: 0.2em;padding-left: 0.2em;position: relative;}#sk-container-id-1 div.sk-item {position: relative;z-index: 1;}#sk-container-id-1 div.sk-parallel {display: flex;align-items: stretch;justify-content: center;background-color: white;position: relative;}#sk-container-id-1 div.sk-item::before, #sk-container-id-1 div.sk-parallel-item::before {content: \"\";position: absolute;border-left: 1px solid gray;box-sizing: border-box;top: 0;bottom: 0;left: 50%;z-index: -1;}#sk-container-id-1 div.sk-parallel-item {display: flex;flex-direction: column;z-index: 1;position: relative;background-color: white;}#sk-container-id-1 div.sk-parallel-item:first-child::after {align-self: flex-end;width: 50%;}#sk-container-id-1 div.sk-parallel-item:last-child::after {align-self: flex-start;width: 50%;}#sk-container-id-1 div.sk-parallel-item:only-child::after {width: 0;}#sk-container-id-1 div.sk-dashed-wrapped {border: 1px dashed gray;margin: 0 0.4em 0.5em 0.4em;box-sizing: border-box;padding-bottom: 0.4em;background-color: white;}#sk-container-id-1 div.sk-label label {font-family: monospace;font-weight: bold;display: inline-block;line-height: 1.2em;}#sk-container-id-1 div.sk-label-container {text-align: center;}#sk-container-id-1 div.sk-container {/* jupyter's `normalize.less` sets `[hidden] { display: none; }` but bootstrap.min.css set `[hidden] { display: none !important; }` so we also need the `!important` here to be able to override the default hidden behavior on the sphinx rendered scikit-learn.org. See: https://github.com/scikit-learn/scikit-learn/issues/21755 */display: inline-block !important;position: relative;}#sk-container-id-1 div.sk-text-repr-fallback {display: none;}</style><div id=\"sk-container-id-1\" class=\"sk-top-container\"><div class=\"sk-text-repr-fallback\"><pre>LinearDiscriminantAnalysis()</pre><b>In a Jupyter environment, please rerun this cell to show the HTML representation or trust the notebook. <br />On GitHub, the HTML representation is unable to render, please try loading this page with nbviewer.org.</b></div><div class=\"sk-container\" hidden><div class=\"sk-item\"><div class=\"sk-estimator sk-toggleable\"><input class=\"sk-toggleable__control sk-hidden--visually\" id=\"sk-estimator-id-1\" type=\"checkbox\" checked><label for=\"sk-estimator-id-1\" class=\"sk-toggleable__label sk-toggleable__label-arrow\">LinearDiscriminantAnalysis</label><div class=\"sk-toggleable__content\"><pre>LinearDiscriminantAnalysis()</pre></div></div></div></div></div>"
      ],
      "text/plain": [
       "LinearDiscriminantAnalysis()"
      ]
     },
     "execution_count": 23,
     "metadata": {},
     "output_type": "execute_result"
    }
   ],
   "source": [
    "#define predictor and response variables\n",
    "\n",
    "x = df[['s_length','s_width','p_length','p_width']]\n",
    "y = df['species']\n",
    "\n",
    "model = LinearDiscriminantAnalysis()\n",
    "model.fit(x,y)"
   ]
  },
  {
   "cell_type": "code",
   "execution_count": 24,
   "metadata": {},
   "outputs": [
    {
     "name": "stdout",
     "output_type": "stream",
     "text": [
      "0.9800000000000001\n"
     ]
    }
   ],
   "source": [
    "#defince method to evaluate model\n",
    "cv = RepeatedStratifiedKFold(n_splits=10, n_repeats=3, random_state=1)\n",
    "\n",
    "#evaluate model\n",
    "scores = cross_val_score(model,x,y,scoring='accuracy',cv=cv, n_jobs=-1)\n",
    "print(np.mean(scores))"
   ]
  },
  {
   "cell_type": "code",
   "execution_count": 25,
   "metadata": {},
   "outputs": [
    {
     "name": "stderr",
     "output_type": "stream",
     "text": [
      "c:\\Users\\HP\\anaconda3\\Lib\\site-packages\\sklearn\\base.py:439: UserWarning: X does not have valid feature names, but LinearDiscriminantAnalysis was fitted with feature names\n",
      "  warnings.warn(\n"
     ]
    },
    {
     "data": {
      "text/plain": [
       "array(['virginica'], dtype='<U10')"
      ]
     },
     "execution_count": 25,
     "metadata": {},
     "output_type": "execute_result"
    }
   ],
   "source": [
    "#define new observation\n",
    "new = [5,3,1,4]\n",
    "model.predict([new])"
   ]
  },
  {
   "cell_type": "code",
   "execution_count": 26,
   "metadata": {},
   "outputs": [
    {
     "data": {
      "image/png": "[encoded data removed]",
      "text/plain": [
       "<Figure size 640x480 with 1 Axes>"
      ]
     },
     "metadata": {},
     "output_type": "display_data"
    }
   ],
   "source": [
    "#define data to plot\n",
    "x = iris.data\n",
    "y = iris.target\n",
    "model=LinearDiscriminantAnalysis()\n",
    "data_plot = model.fit(x,y).transform(x)\n",
    "target_names = iris.target_names\n",
    "\n",
    "#create LDA plot\n",
    "plt.figure()\n",
    "colors = ['red','green','blue']\n",
    "lw = 2\n",
    "for color, i, target_name in zip(colors, [0, 1, 2], target_names):\n",
    "  plt.scatter(data_plot[y == i, 0], data_plot[y == i, 1], alpha=.8, color=color,\n",
    "              label=target_name)\n",
    "  \n",
    "#add legend\n",
    "plt.legend(loc='best', shadow=False, scatterpoints=1)\n",
    "\n",
    "#display LDA plot\n",
    "plt.show()"
   ]
  }
 ],
 "metadata": {
  "kernelspec": {
   "display_name": "base",
   "language": "python",
   "name": "python3"
  },
  "language_info": {
   "codemirror_mode": {
    "name": "ipython",
    "version": 3
   },
   "file_extension": ".py",
   "mimetype": "text/x-python",
   "name": "python",
   "nbconvert_exporter": "python",
   "pygments_lexer": "ipython3",
   "version": "3.11.4"
  },
  "orig_nbformat": 4
 },
 "nbformat": 4,
 "nbformat_minor": 2
}
